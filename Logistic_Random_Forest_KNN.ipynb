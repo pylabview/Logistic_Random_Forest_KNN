{
  "nbformat": 4,
  "nbformat_minor": 0,
  "metadata": {
    "colab": {
      "provenance": [],
      "toc_visible": true,
      "include_colab_link": true
    },
    "kernelspec": {
      "name": "python3",
      "display_name": "Python 3"
    },
    "language_info": {
      "name": "python"
    }
  },
  "cells": [
    {
      "cell_type": "markdown",
      "metadata": {
        "id": "view-in-github",
        "colab_type": "text"
      },
      "source": [
        "<a href=\"https://colab.research.google.com/github/pylabview/Logistic_Random_Forest_KNN/blob/main/Logistic_Random_Forest_KNN.ipynb\" target=\"_parent\"><img src=\"https://colab.research.google.com/assets/colab-badge.svg\" alt=\"Open In Colab\"/></a>"
      ]
    },
    {
      "cell_type": "markdown",
      "source": [
        "# Logistic, Random Forest, or KNN? (Core)"
      ],
      "metadata": {
        "id": "-OruHUpIqMbr"
      }
    },
    {
      "cell_type": "markdown",
      "source": [
        ">Rodrigo Arguello-Serrano\n",
        "- 01/15/23"
      ],
      "metadata": {
        "id": "W4Mrwz9yktel"
      }
    },
    {
      "cell_type": "markdown",
      "source": [
        "<a name=\"TOC\"></a>\n",
        "#🗂  Table of Contents\n",
        "1. [🖌 Source Control and Data Cleaning](#1)\n",
        "  - [📒 Data Dictionary ](#1.1)\n",
        "  - [Module Imports & Mounting Goolgle Drive](#1.2)\n",
        "  - [Loading Data](#1.3)\n",
        "  - [🧽 Data Cleaning](#1.4)\n",
        "2. [⚙️ Preprocesing for Machine Learning](#5)\n",
        "  - [Split the Data (Validation Split)](#5.3)\n",
        "  - [Column Selector](#5.4)\n",
        "  - [Transformers](#5.5)\n",
        "  - [Pipeline Numeric Data and a Pipeline for Categorical Data](#5.6)\n",
        "  - [Tuples](#5.7)\n",
        "  - [ColumnTransformer & Preprocessing](#5.8)\n",
        "3. [📐Maching Learning - Training the Models](#6)\n",
        "  - [🐍 Functions](#6.1)\n",
        "  - [▶ Model Data: LogisticRegression](#6.2)\n",
        "    - [Fit a LogisticRegression model](#6.2.1)\n",
        "    - [Evaluating Our Model](#6.2.2)\n",
        "    - [Changing Decision Thresholds](#6.2.3)\n",
        "    - [Comparing Confusion Matrices](#6.2.4)\n",
        "    - [Loop Over Decision Thresholds](#6.2.5)\n",
        "  - [▶ Model Data: KNN model](#6.3)\n",
        "    - [Tune the Hyperparameters](#6.3.1)\n",
        "  - [▶ Model Data: Ramdom Forest Model](#6.9)\n",
        "    - [Loop to Tune n_estimators for Random Forest Regressor Model](#6.10)\n",
        "4. [📕 Observations and Recommendations](#6.14)\n"
      ],
      "metadata": {
        "id": "9GfMhjHqLRY8"
      }
    },
    {
      "cell_type": "markdown",
      "source": [
        "<a name=\"1\"></a>\n",
        "# Source Control and Data Cleaning"
      ],
      "metadata": {
        "id": "El6sjpTrM9hq"
      }
    },
    {
      "cell_type": "markdown",
      "source": [
        "⬅️[Go back to TOC](#TOC)"
      ],
      "metadata": {
        "id": "8-rJ1_vgNdNk"
      }
    },
    {
      "cell_type": "markdown",
      "source": [
        "<a name=\"1.1\"></a>\n",
        "###📒 Data Dictionary"
      ],
      "metadata": {
        "id": "4uec-xrBNxDr"
      }
    },
    {
      "cell_type": "markdown",
      "source": [
        "> Doesn't exist"
      ],
      "metadata": {
        "id": "Q73rYP3hN1F1"
      }
    },
    {
      "cell_type": "markdown",
      "source": [
        "<a name=\"1.2\"></a>\n",
        "## Module Imports & Mounting Goolgle Drive"
      ],
      "metadata": {
        "id": "1hBj0mg2N8ES"
      }
    },
    {
      "cell_type": "code",
      "source": [
        "#Mount\n",
        "from google.colab import drive\n",
        "drive.mount('/content/drive')\n"
      ],
      "metadata": {
        "colab": {
          "base_uri": "https://localhost:8080/"
        },
        "id": "57OVl9KN0Trn",
        "outputId": "c9183fd6-e050-482c-d348-ef701d4ad11b"
      },
      "execution_count": null,
      "outputs": [
        {
          "output_type": "stream",
          "name": "stdout",
          "text": [
            "Mounted at /content/drive\n"
          ]
        }
      ]
    },
    {
      "cell_type": "code",
      "source": [
        "##### Imports #####\n",
        "# Pandas\n",
        "import pandas as pd\n",
        "# Numpy\n",
        "import numpy as np\n",
        "# Plotting libs\n",
        "import matplotlib.pyplot as plt\n",
        "import seaborn as sns\n",
        "from matplotlib.ticker import FuncFormatter\n",
        "\n",
        "# Preprocessing\n",
        "from sklearn.model_selection import train_test_split\n",
        "from sklearn.compose import make_column_selector\n",
        "from sklearn.preprocessing import StandardScaler, OneHotEncoder, OrdinalEncoder\n",
        "from sklearn.pipeline import make_pipeline\n",
        "from sklearn.compose import make_column_transformer\n",
        "from sklearn.impute import SimpleImputer\n",
        "\n",
        "# Models\n",
        "from sklearn.linear_model import LinearRegression\n",
        "from sklearn.dummy import DummyRegressor\n",
        "from sklearn.tree import DecisionTreeRegressor\n",
        "from sklearn.ensemble import RandomForestRegressor\n",
        "from sklearn.ensemble import BaggingRegressor\n",
        "from sklearn.ensemble import RandomForestClassifier\n",
        "from sklearn.neighbors import KNeighborsClassifier\n",
        "from sklearn.linear_model import LogisticRegression\n",
        "\n",
        "# Regression Metrics\n",
        "from sklearn.metrics import r2_score\n",
        "from sklearn.metrics import mean_absolute_error\n",
        "from sklearn.metrics import mean_squared_error\n",
        "\n",
        "# Set global scikit-learn configuration\n",
        "from sklearn import set_config\n",
        "# Display estimators as a diagram\n",
        "set_config(display='diagram') # 'text' or 'diagram'\n",
        "from sklearn.pipeline import Pipeline, make_pipeline\n",
        "from sklearn.compose import (ColumnTransformer, make_column_selector,\n",
        "                             make_column_transformer)\n",
        "from sklearn.metrics import (roc_auc_score, ConfusionMatrixDisplay,\n",
        "                             PrecisionRecallDisplay, RocCurveDisplay,precision_score,\n",
        "                             f1_score, accuracy_score, classification_report)"
      ],
      "metadata": {
        "id": "XMKoEGJ0qVpS"
      },
      "execution_count": null,
      "outputs": []
    },
    {
      "cell_type": "markdown",
      "source": [
        "<a name=\"1.3\"></a>\n",
        "## Loading Data"
      ],
      "metadata": {
        "id": "ljh-Vx2COm42"
      }
    },
    {
      "cell_type": "code",
      "source": [
        "df = pd.read_csv(\"/content/drive/MyDrive/Colab Notebooks/Assignments/Data/wisconsinBreastCancer - wisconsinBreastCancer.csv\")\n",
        "df.head()"
      ],
      "metadata": {
        "id": "24vzrRAaqo94",
        "colab": {
          "base_uri": "https://localhost:8080/",
          "height": 317
        },
        "outputId": "95913d8c-e908-460b-8465-69474c6f9359"
      },
      "execution_count": null,
      "outputs": [
        {
          "output_type": "execute_result",
          "data": {
            "text/plain": [
              "         id diagnosis  radius_mean  texture_mean  perimeter_mean  area_mean  \\\n",
              "0    842302         M        17.99         10.38          122.80     1001.0   \n",
              "1    842517         M        20.57         17.77          132.90     1326.0   \n",
              "2  84300903         M        19.69         21.25          130.00     1203.0   \n",
              "3  84348301         M        11.42         20.38           77.58      386.1   \n",
              "4  84358402         M        20.29         14.34          135.10     1297.0   \n",
              "\n",
              "   smoothness_mean  compactness_mean  concavity_mean  concave points_mean  \\\n",
              "0          0.11840           0.27760          0.3001              0.14710   \n",
              "1          0.08474           0.07864          0.0869              0.07017   \n",
              "2          0.10960           0.15990          0.1974              0.12790   \n",
              "3          0.14250           0.28390          0.2414              0.10520   \n",
              "4          0.10030           0.13280          0.1980              0.10430   \n",
              "\n",
              "   ...  radius_worst  texture_worst  perimeter_worst  area_worst  \\\n",
              "0  ...         25.38          17.33           184.60      2019.0   \n",
              "1  ...         24.99          23.41           158.80      1956.0   \n",
              "2  ...         23.57          25.53           152.50      1709.0   \n",
              "3  ...         14.91          26.50            98.87       567.7   \n",
              "4  ...         22.54          16.67           152.20      1575.0   \n",
              "\n",
              "   smoothness_worst  compactness_worst  concavity_worst  concave points_worst  \\\n",
              "0            0.1622             0.6656           0.7119                0.2654   \n",
              "1            0.1238             0.1866           0.2416                0.1860   \n",
              "2            0.1444             0.4245           0.4504                0.2430   \n",
              "3            0.2098             0.8663           0.6869                0.2575   \n",
              "4            0.1374             0.2050           0.4000                0.1625   \n",
              "\n",
              "   symmetry_worst  fractal_dimension_worst  \n",
              "0          0.4601                  0.11890  \n",
              "1          0.2750                  0.08902  \n",
              "2          0.3613                  0.08758  \n",
              "3          0.6638                  0.17300  \n",
              "4          0.2364                  0.07678  \n",
              "\n",
              "[5 rows x 32 columns]"
            ],
            "text/html": [
              "\n",
              "  <div id=\"df-186fa487-2998-4884-b6e5-af1c19dad138\">\n",
              "    <div class=\"colab-df-container\">\n",
              "      <div>\n",
              "<style scoped>\n",
              "    .dataframe tbody tr th:only-of-type {\n",
              "        vertical-align: middle;\n",
              "    }\n",
              "\n",
              "    .dataframe tbody tr th {\n",
              "        vertical-align: top;\n",
              "    }\n",
              "\n",
              "    .dataframe thead th {\n",
              "        text-align: right;\n",
              "    }\n",
              "</style>\n",
              "<table border=\"1\" class=\"dataframe\">\n",
              "  <thead>\n",
              "    <tr style=\"text-align: right;\">\n",
              "      <th></th>\n",
              "      <th>id</th>\n",
              "      <th>diagnosis</th>\n",
              "      <th>radius_mean</th>\n",
              "      <th>texture_mean</th>\n",
              "      <th>perimeter_mean</th>\n",
              "      <th>area_mean</th>\n",
              "      <th>smoothness_mean</th>\n",
              "      <th>compactness_mean</th>\n",
              "      <th>concavity_mean</th>\n",
              "      <th>concave points_mean</th>\n",
              "      <th>...</th>\n",
              "      <th>radius_worst</th>\n",
              "      <th>texture_worst</th>\n",
              "      <th>perimeter_worst</th>\n",
              "      <th>area_worst</th>\n",
              "      <th>smoothness_worst</th>\n",
              "      <th>compactness_worst</th>\n",
              "      <th>concavity_worst</th>\n",
              "      <th>concave points_worst</th>\n",
              "      <th>symmetry_worst</th>\n",
              "      <th>fractal_dimension_worst</th>\n",
              "    </tr>\n",
              "  </thead>\n",
              "  <tbody>\n",
              "    <tr>\n",
              "      <th>0</th>\n",
              "      <td>842302</td>\n",
              "      <td>M</td>\n",
              "      <td>17.99</td>\n",
              "      <td>10.38</td>\n",
              "      <td>122.80</td>\n",
              "      <td>1001.0</td>\n",
              "      <td>0.11840</td>\n",
              "      <td>0.27760</td>\n",
              "      <td>0.3001</td>\n",
              "      <td>0.14710</td>\n",
              "      <td>...</td>\n",
              "      <td>25.38</td>\n",
              "      <td>17.33</td>\n",
              "      <td>184.60</td>\n",
              "      <td>2019.0</td>\n",
              "      <td>0.1622</td>\n",
              "      <td>0.6656</td>\n",
              "      <td>0.7119</td>\n",
              "      <td>0.2654</td>\n",
              "      <td>0.4601</td>\n",
              "      <td>0.11890</td>\n",
              "    </tr>\n",
              "    <tr>\n",
              "      <th>1</th>\n",
              "      <td>842517</td>\n",
              "      <td>M</td>\n",
              "      <td>20.57</td>\n",
              "      <td>17.77</td>\n",
              "      <td>132.90</td>\n",
              "      <td>1326.0</td>\n",
              "      <td>0.08474</td>\n",
              "      <td>0.07864</td>\n",
              "      <td>0.0869</td>\n",
              "      <td>0.07017</td>\n",
              "      <td>...</td>\n",
              "      <td>24.99</td>\n",
              "      <td>23.41</td>\n",
              "      <td>158.80</td>\n",
              "      <td>1956.0</td>\n",
              "      <td>0.1238</td>\n",
              "      <td>0.1866</td>\n",
              "      <td>0.2416</td>\n",
              "      <td>0.1860</td>\n",
              "      <td>0.2750</td>\n",
              "      <td>0.08902</td>\n",
              "    </tr>\n",
              "    <tr>\n",
              "      <th>2</th>\n",
              "      <td>84300903</td>\n",
              "      <td>M</td>\n",
              "      <td>19.69</td>\n",
              "      <td>21.25</td>\n",
              "      <td>130.00</td>\n",
              "      <td>1203.0</td>\n",
              "      <td>0.10960</td>\n",
              "      <td>0.15990</td>\n",
              "      <td>0.1974</td>\n",
              "      <td>0.12790</td>\n",
              "      <td>...</td>\n",
              "      <td>23.57</td>\n",
              "      <td>25.53</td>\n",
              "      <td>152.50</td>\n",
              "      <td>1709.0</td>\n",
              "      <td>0.1444</td>\n",
              "      <td>0.4245</td>\n",
              "      <td>0.4504</td>\n",
              "      <td>0.2430</td>\n",
              "      <td>0.3613</td>\n",
              "      <td>0.08758</td>\n",
              "    </tr>\n",
              "    <tr>\n",
              "      <th>3</th>\n",
              "      <td>84348301</td>\n",
              "      <td>M</td>\n",
              "      <td>11.42</td>\n",
              "      <td>20.38</td>\n",
              "      <td>77.58</td>\n",
              "      <td>386.1</td>\n",
              "      <td>0.14250</td>\n",
              "      <td>0.28390</td>\n",
              "      <td>0.2414</td>\n",
              "      <td>0.10520</td>\n",
              "      <td>...</td>\n",
              "      <td>14.91</td>\n",
              "      <td>26.50</td>\n",
              "      <td>98.87</td>\n",
              "      <td>567.7</td>\n",
              "      <td>0.2098</td>\n",
              "      <td>0.8663</td>\n",
              "      <td>0.6869</td>\n",
              "      <td>0.2575</td>\n",
              "      <td>0.6638</td>\n",
              "      <td>0.17300</td>\n",
              "    </tr>\n",
              "    <tr>\n",
              "      <th>4</th>\n",
              "      <td>84358402</td>\n",
              "      <td>M</td>\n",
              "      <td>20.29</td>\n",
              "      <td>14.34</td>\n",
              "      <td>135.10</td>\n",
              "      <td>1297.0</td>\n",
              "      <td>0.10030</td>\n",
              "      <td>0.13280</td>\n",
              "      <td>0.1980</td>\n",
              "      <td>0.10430</td>\n",
              "      <td>...</td>\n",
              "      <td>22.54</td>\n",
              "      <td>16.67</td>\n",
              "      <td>152.20</td>\n",
              "      <td>1575.0</td>\n",
              "      <td>0.1374</td>\n",
              "      <td>0.2050</td>\n",
              "      <td>0.4000</td>\n",
              "      <td>0.1625</td>\n",
              "      <td>0.2364</td>\n",
              "      <td>0.07678</td>\n",
              "    </tr>\n",
              "  </tbody>\n",
              "</table>\n",
              "<p>5 rows × 32 columns</p>\n",
              "</div>\n",
              "      <button class=\"colab-df-convert\" onclick=\"convertToInteractive('df-186fa487-2998-4884-b6e5-af1c19dad138')\"\n",
              "              title=\"Convert this dataframe to an interactive table.\"\n",
              "              style=\"display:none;\">\n",
              "        \n",
              "  <svg xmlns=\"http://www.w3.org/2000/svg\" height=\"24px\"viewBox=\"0 0 24 24\"\n",
              "       width=\"24px\">\n",
              "    <path d=\"M0 0h24v24H0V0z\" fill=\"none\"/>\n",
              "    <path d=\"M18.56 5.44l.94 2.06.94-2.06 2.06-.94-2.06-.94-.94-2.06-.94 2.06-2.06.94zm-11 1L8.5 8.5l.94-2.06 2.06-.94-2.06-.94L8.5 2.5l-.94 2.06-2.06.94zm10 10l.94 2.06.94-2.06 2.06-.94-2.06-.94-.94-2.06-.94 2.06-2.06.94z\"/><path d=\"M17.41 7.96l-1.37-1.37c-.4-.4-.92-.59-1.43-.59-.52 0-1.04.2-1.43.59L10.3 9.45l-7.72 7.72c-.78.78-.78 2.05 0 2.83L4 21.41c.39.39.9.59 1.41.59.51 0 1.02-.2 1.41-.59l7.78-7.78 2.81-2.81c.8-.78.8-2.07 0-2.86zM5.41 20L4 18.59l7.72-7.72 1.47 1.35L5.41 20z\"/>\n",
              "  </svg>\n",
              "      </button>\n",
              "      \n",
              "  <style>\n",
              "    .colab-df-container {\n",
              "      display:flex;\n",
              "      flex-wrap:wrap;\n",
              "      gap: 12px;\n",
              "    }\n",
              "\n",
              "    .colab-df-convert {\n",
              "      background-color: #E8F0FE;\n",
              "      border: none;\n",
              "      border-radius: 50%;\n",
              "      cursor: pointer;\n",
              "      display: none;\n",
              "      fill: #1967D2;\n",
              "      height: 32px;\n",
              "      padding: 0 0 0 0;\n",
              "      width: 32px;\n",
              "    }\n",
              "\n",
              "    .colab-df-convert:hover {\n",
              "      background-color: #E2EBFA;\n",
              "      box-shadow: 0px 1px 2px rgba(60, 64, 67, 0.3), 0px 1px 3px 1px rgba(60, 64, 67, 0.15);\n",
              "      fill: #174EA6;\n",
              "    }\n",
              "\n",
              "    [theme=dark] .colab-df-convert {\n",
              "      background-color: #3B4455;\n",
              "      fill: #D2E3FC;\n",
              "    }\n",
              "\n",
              "    [theme=dark] .colab-df-convert:hover {\n",
              "      background-color: #434B5C;\n",
              "      box-shadow: 0px 1px 3px 1px rgba(0, 0, 0, 0.15);\n",
              "      filter: drop-shadow(0px 1px 2px rgba(0, 0, 0, 0.3));\n",
              "      fill: #FFFFFF;\n",
              "    }\n",
              "  </style>\n",
              "\n",
              "      <script>\n",
              "        const buttonEl =\n",
              "          document.querySelector('#df-186fa487-2998-4884-b6e5-af1c19dad138 button.colab-df-convert');\n",
              "        buttonEl.style.display =\n",
              "          google.colab.kernel.accessAllowed ? 'block' : 'none';\n",
              "\n",
              "        async function convertToInteractive(key) {\n",
              "          const element = document.querySelector('#df-186fa487-2998-4884-b6e5-af1c19dad138');\n",
              "          const dataTable =\n",
              "            await google.colab.kernel.invokeFunction('convertToInteractive',\n",
              "                                                     [key], {});\n",
              "          if (!dataTable) return;\n",
              "\n",
              "          const docLinkHtml = 'Like what you see? Visit the ' +\n",
              "            '<a target=\"_blank\" href=https://colab.research.google.com/notebooks/data_table.ipynb>data table notebook</a>'\n",
              "            + ' to learn more about interactive tables.';\n",
              "          element.innerHTML = '';\n",
              "          dataTable['output_type'] = 'display_data';\n",
              "          await google.colab.output.renderOutput(dataTable, element);\n",
              "          const docLink = document.createElement('div');\n",
              "          docLink.innerHTML = docLinkHtml;\n",
              "          element.appendChild(docLink);\n",
              "        }\n",
              "      </script>\n",
              "    </div>\n",
              "  </div>\n",
              "  "
            ]
          },
          "metadata": {},
          "execution_count": 4
        }
      ]
    },
    {
      "cell_type": "code",
      "source": [
        "# Display all columns\n",
        "pd.set_option('display.max_column', None)\n",
        "df.head()"
      ],
      "metadata": {
        "colab": {
          "base_uri": "https://localhost:8080/",
          "height": 288
        },
        "id": "nGNCOkwfQxNq",
        "outputId": "953a633d-8a2b-4796-be09-60f8e76fe4b6"
      },
      "execution_count": null,
      "outputs": [
        {
          "output_type": "execute_result",
          "data": {
            "text/plain": [
              "         id diagnosis  radius_mean  texture_mean  perimeter_mean  area_mean  \\\n",
              "0    842302         M        17.99         10.38          122.80     1001.0   \n",
              "1    842517         M        20.57         17.77          132.90     1326.0   \n",
              "2  84300903         M        19.69         21.25          130.00     1203.0   \n",
              "3  84348301         M        11.42         20.38           77.58      386.1   \n",
              "4  84358402         M        20.29         14.34          135.10     1297.0   \n",
              "\n",
              "   smoothness_mean  compactness_mean  concavity_mean  concave points_mean  \\\n",
              "0          0.11840           0.27760          0.3001              0.14710   \n",
              "1          0.08474           0.07864          0.0869              0.07017   \n",
              "2          0.10960           0.15990          0.1974              0.12790   \n",
              "3          0.14250           0.28390          0.2414              0.10520   \n",
              "4          0.10030           0.13280          0.1980              0.10430   \n",
              "\n",
              "   symmetry_mean  fractal_dimension_mean  radius_se  texture_se  perimeter_se  \\\n",
              "0         0.2419                 0.07871     1.0950      0.9053         8.589   \n",
              "1         0.1812                 0.05667     0.5435      0.7339         3.398   \n",
              "2         0.2069                 0.05999     0.7456      0.7869         4.585   \n",
              "3         0.2597                 0.09744     0.4956      1.1560         3.445   \n",
              "4         0.1809                 0.05883     0.7572      0.7813         5.438   \n",
              "\n",
              "   area_se  smoothness_se  compactness_se  concavity_se  concave points_se  \\\n",
              "0   153.40       0.006399         0.04904       0.05373            0.01587   \n",
              "1    74.08       0.005225         0.01308       0.01860            0.01340   \n",
              "2    94.03       0.006150         0.04006       0.03832            0.02058   \n",
              "3    27.23       0.009110         0.07458       0.05661            0.01867   \n",
              "4    94.44       0.011490         0.02461       0.05688            0.01885   \n",
              "\n",
              "   symmetry_se  fractal_dimension_se  radius_worst  texture_worst  \\\n",
              "0      0.03003              0.006193         25.38          17.33   \n",
              "1      0.01389              0.003532         24.99          23.41   \n",
              "2      0.02250              0.004571         23.57          25.53   \n",
              "3      0.05963              0.009208         14.91          26.50   \n",
              "4      0.01756              0.005115         22.54          16.67   \n",
              "\n",
              "   perimeter_worst  area_worst  smoothness_worst  compactness_worst  \\\n",
              "0           184.60      2019.0            0.1622             0.6656   \n",
              "1           158.80      1956.0            0.1238             0.1866   \n",
              "2           152.50      1709.0            0.1444             0.4245   \n",
              "3            98.87       567.7            0.2098             0.8663   \n",
              "4           152.20      1575.0            0.1374             0.2050   \n",
              "\n",
              "   concavity_worst  concave points_worst  symmetry_worst  \\\n",
              "0           0.7119                0.2654          0.4601   \n",
              "1           0.2416                0.1860          0.2750   \n",
              "2           0.4504                0.2430          0.3613   \n",
              "3           0.6869                0.2575          0.6638   \n",
              "4           0.4000                0.1625          0.2364   \n",
              "\n",
              "   fractal_dimension_worst  \n",
              "0                  0.11890  \n",
              "1                  0.08902  \n",
              "2                  0.08758  \n",
              "3                  0.17300  \n",
              "4                  0.07678  "
            ],
            "text/html": [
              "\n",
              "  <div id=\"df-6c3f789d-9142-443f-ab1b-07f96d02aa80\">\n",
              "    <div class=\"colab-df-container\">\n",
              "      <div>\n",
              "<style scoped>\n",
              "    .dataframe tbody tr th:only-of-type {\n",
              "        vertical-align: middle;\n",
              "    }\n",
              "\n",
              "    .dataframe tbody tr th {\n",
              "        vertical-align: top;\n",
              "    }\n",
              "\n",
              "    .dataframe thead th {\n",
              "        text-align: right;\n",
              "    }\n",
              "</style>\n",
              "<table border=\"1\" class=\"dataframe\">\n",
              "  <thead>\n",
              "    <tr style=\"text-align: right;\">\n",
              "      <th></th>\n",
              "      <th>id</th>\n",
              "      <th>diagnosis</th>\n",
              "      <th>radius_mean</th>\n",
              "      <th>texture_mean</th>\n",
              "      <th>perimeter_mean</th>\n",
              "      <th>area_mean</th>\n",
              "      <th>smoothness_mean</th>\n",
              "      <th>compactness_mean</th>\n",
              "      <th>concavity_mean</th>\n",
              "      <th>concave points_mean</th>\n",
              "      <th>symmetry_mean</th>\n",
              "      <th>fractal_dimension_mean</th>\n",
              "      <th>radius_se</th>\n",
              "      <th>texture_se</th>\n",
              "      <th>perimeter_se</th>\n",
              "      <th>area_se</th>\n",
              "      <th>smoothness_se</th>\n",
              "      <th>compactness_se</th>\n",
              "      <th>concavity_se</th>\n",
              "      <th>concave points_se</th>\n",
              "      <th>symmetry_se</th>\n",
              "      <th>fractal_dimension_se</th>\n",
              "      <th>radius_worst</th>\n",
              "      <th>texture_worst</th>\n",
              "      <th>perimeter_worst</th>\n",
              "      <th>area_worst</th>\n",
              "      <th>smoothness_worst</th>\n",
              "      <th>compactness_worst</th>\n",
              "      <th>concavity_worst</th>\n",
              "      <th>concave points_worst</th>\n",
              "      <th>symmetry_worst</th>\n",
              "      <th>fractal_dimension_worst</th>\n",
              "    </tr>\n",
              "  </thead>\n",
              "  <tbody>\n",
              "    <tr>\n",
              "      <th>0</th>\n",
              "      <td>842302</td>\n",
              "      <td>M</td>\n",
              "      <td>17.99</td>\n",
              "      <td>10.38</td>\n",
              "      <td>122.80</td>\n",
              "      <td>1001.0</td>\n",
              "      <td>0.11840</td>\n",
              "      <td>0.27760</td>\n",
              "      <td>0.3001</td>\n",
              "      <td>0.14710</td>\n",
              "      <td>0.2419</td>\n",
              "      <td>0.07871</td>\n",
              "      <td>1.0950</td>\n",
              "      <td>0.9053</td>\n",
              "      <td>8.589</td>\n",
              "      <td>153.40</td>\n",
              "      <td>0.006399</td>\n",
              "      <td>0.04904</td>\n",
              "      <td>0.05373</td>\n",
              "      <td>0.01587</td>\n",
              "      <td>0.03003</td>\n",
              "      <td>0.006193</td>\n",
              "      <td>25.38</td>\n",
              "      <td>17.33</td>\n",
              "      <td>184.60</td>\n",
              "      <td>2019.0</td>\n",
              "      <td>0.1622</td>\n",
              "      <td>0.6656</td>\n",
              "      <td>0.7119</td>\n",
              "      <td>0.2654</td>\n",
              "      <td>0.4601</td>\n",
              "      <td>0.11890</td>\n",
              "    </tr>\n",
              "    <tr>\n",
              "      <th>1</th>\n",
              "      <td>842517</td>\n",
              "      <td>M</td>\n",
              "      <td>20.57</td>\n",
              "      <td>17.77</td>\n",
              "      <td>132.90</td>\n",
              "      <td>1326.0</td>\n",
              "      <td>0.08474</td>\n",
              "      <td>0.07864</td>\n",
              "      <td>0.0869</td>\n",
              "      <td>0.07017</td>\n",
              "      <td>0.1812</td>\n",
              "      <td>0.05667</td>\n",
              "      <td>0.5435</td>\n",
              "      <td>0.7339</td>\n",
              "      <td>3.398</td>\n",
              "      <td>74.08</td>\n",
              "      <td>0.005225</td>\n",
              "      <td>0.01308</td>\n",
              "      <td>0.01860</td>\n",
              "      <td>0.01340</td>\n",
              "      <td>0.01389</td>\n",
              "      <td>0.003532</td>\n",
              "      <td>24.99</td>\n",
              "      <td>23.41</td>\n",
              "      <td>158.80</td>\n",
              "      <td>1956.0</td>\n",
              "      <td>0.1238</td>\n",
              "      <td>0.1866</td>\n",
              "      <td>0.2416</td>\n",
              "      <td>0.1860</td>\n",
              "      <td>0.2750</td>\n",
              "      <td>0.08902</td>\n",
              "    </tr>\n",
              "    <tr>\n",
              "      <th>2</th>\n",
              "      <td>84300903</td>\n",
              "      <td>M</td>\n",
              "      <td>19.69</td>\n",
              "      <td>21.25</td>\n",
              "      <td>130.00</td>\n",
              "      <td>1203.0</td>\n",
              "      <td>0.10960</td>\n",
              "      <td>0.15990</td>\n",
              "      <td>0.1974</td>\n",
              "      <td>0.12790</td>\n",
              "      <td>0.2069</td>\n",
              "      <td>0.05999</td>\n",
              "      <td>0.7456</td>\n",
              "      <td>0.7869</td>\n",
              "      <td>4.585</td>\n",
              "      <td>94.03</td>\n",
              "      <td>0.006150</td>\n",
              "      <td>0.04006</td>\n",
              "      <td>0.03832</td>\n",
              "      <td>0.02058</td>\n",
              "      <td>0.02250</td>\n",
              "      <td>0.004571</td>\n",
              "      <td>23.57</td>\n",
              "      <td>25.53</td>\n",
              "      <td>152.50</td>\n",
              "      <td>1709.0</td>\n",
              "      <td>0.1444</td>\n",
              "      <td>0.4245</td>\n",
              "      <td>0.4504</td>\n",
              "      <td>0.2430</td>\n",
              "      <td>0.3613</td>\n",
              "      <td>0.08758</td>\n",
              "    </tr>\n",
              "    <tr>\n",
              "      <th>3</th>\n",
              "      <td>84348301</td>\n",
              "      <td>M</td>\n",
              "      <td>11.42</td>\n",
              "      <td>20.38</td>\n",
              "      <td>77.58</td>\n",
              "      <td>386.1</td>\n",
              "      <td>0.14250</td>\n",
              "      <td>0.28390</td>\n",
              "      <td>0.2414</td>\n",
              "      <td>0.10520</td>\n",
              "      <td>0.2597</td>\n",
              "      <td>0.09744</td>\n",
              "      <td>0.4956</td>\n",
              "      <td>1.1560</td>\n",
              "      <td>3.445</td>\n",
              "      <td>27.23</td>\n",
              "      <td>0.009110</td>\n",
              "      <td>0.07458</td>\n",
              "      <td>0.05661</td>\n",
              "      <td>0.01867</td>\n",
              "      <td>0.05963</td>\n",
              "      <td>0.009208</td>\n",
              "      <td>14.91</td>\n",
              "      <td>26.50</td>\n",
              "      <td>98.87</td>\n",
              "      <td>567.7</td>\n",
              "      <td>0.2098</td>\n",
              "      <td>0.8663</td>\n",
              "      <td>0.6869</td>\n",
              "      <td>0.2575</td>\n",
              "      <td>0.6638</td>\n",
              "      <td>0.17300</td>\n",
              "    </tr>\n",
              "    <tr>\n",
              "      <th>4</th>\n",
              "      <td>84358402</td>\n",
              "      <td>M</td>\n",
              "      <td>20.29</td>\n",
              "      <td>14.34</td>\n",
              "      <td>135.10</td>\n",
              "      <td>1297.0</td>\n",
              "      <td>0.10030</td>\n",
              "      <td>0.13280</td>\n",
              "      <td>0.1980</td>\n",
              "      <td>0.10430</td>\n",
              "      <td>0.1809</td>\n",
              "      <td>0.05883</td>\n",
              "      <td>0.7572</td>\n",
              "      <td>0.7813</td>\n",
              "      <td>5.438</td>\n",
              "      <td>94.44</td>\n",
              "      <td>0.011490</td>\n",
              "      <td>0.02461</td>\n",
              "      <td>0.05688</td>\n",
              "      <td>0.01885</td>\n",
              "      <td>0.01756</td>\n",
              "      <td>0.005115</td>\n",
              "      <td>22.54</td>\n",
              "      <td>16.67</td>\n",
              "      <td>152.20</td>\n",
              "      <td>1575.0</td>\n",
              "      <td>0.1374</td>\n",
              "      <td>0.2050</td>\n",
              "      <td>0.4000</td>\n",
              "      <td>0.1625</td>\n",
              "      <td>0.2364</td>\n",
              "      <td>0.07678</td>\n",
              "    </tr>\n",
              "  </tbody>\n",
              "</table>\n",
              "</div>\n",
              "      <button class=\"colab-df-convert\" onclick=\"convertToInteractive('df-6c3f789d-9142-443f-ab1b-07f96d02aa80')\"\n",
              "              title=\"Convert this dataframe to an interactive table.\"\n",
              "              style=\"display:none;\">\n",
              "        \n",
              "  <svg xmlns=\"http://www.w3.org/2000/svg\" height=\"24px\"viewBox=\"0 0 24 24\"\n",
              "       width=\"24px\">\n",
              "    <path d=\"M0 0h24v24H0V0z\" fill=\"none\"/>\n",
              "    <path d=\"M18.56 5.44l.94 2.06.94-2.06 2.06-.94-2.06-.94-.94-2.06-.94 2.06-2.06.94zm-11 1L8.5 8.5l.94-2.06 2.06-.94-2.06-.94L8.5 2.5l-.94 2.06-2.06.94zm10 10l.94 2.06.94-2.06 2.06-.94-2.06-.94-.94-2.06-.94 2.06-2.06.94z\"/><path d=\"M17.41 7.96l-1.37-1.37c-.4-.4-.92-.59-1.43-.59-.52 0-1.04.2-1.43.59L10.3 9.45l-7.72 7.72c-.78.78-.78 2.05 0 2.83L4 21.41c.39.39.9.59 1.41.59.51 0 1.02-.2 1.41-.59l7.78-7.78 2.81-2.81c.8-.78.8-2.07 0-2.86zM5.41 20L4 18.59l7.72-7.72 1.47 1.35L5.41 20z\"/>\n",
              "  </svg>\n",
              "      </button>\n",
              "      \n",
              "  <style>\n",
              "    .colab-df-container {\n",
              "      display:flex;\n",
              "      flex-wrap:wrap;\n",
              "      gap: 12px;\n",
              "    }\n",
              "\n",
              "    .colab-df-convert {\n",
              "      background-color: #E8F0FE;\n",
              "      border: none;\n",
              "      border-radius: 50%;\n",
              "      cursor: pointer;\n",
              "      display: none;\n",
              "      fill: #1967D2;\n",
              "      height: 32px;\n",
              "      padding: 0 0 0 0;\n",
              "      width: 32px;\n",
              "    }\n",
              "\n",
              "    .colab-df-convert:hover {\n",
              "      background-color: #E2EBFA;\n",
              "      box-shadow: 0px 1px 2px rgba(60, 64, 67, 0.3), 0px 1px 3px 1px rgba(60, 64, 67, 0.15);\n",
              "      fill: #174EA6;\n",
              "    }\n",
              "\n",
              "    [theme=dark] .colab-df-convert {\n",
              "      background-color: #3B4455;\n",
              "      fill: #D2E3FC;\n",
              "    }\n",
              "\n",
              "    [theme=dark] .colab-df-convert:hover {\n",
              "      background-color: #434B5C;\n",
              "      box-shadow: 0px 1px 3px 1px rgba(0, 0, 0, 0.15);\n",
              "      filter: drop-shadow(0px 1px 2px rgba(0, 0, 0, 0.3));\n",
              "      fill: #FFFFFF;\n",
              "    }\n",
              "  </style>\n",
              "\n",
              "      <script>\n",
              "        const buttonEl =\n",
              "          document.querySelector('#df-6c3f789d-9142-443f-ab1b-07f96d02aa80 button.colab-df-convert');\n",
              "        buttonEl.style.display =\n",
              "          google.colab.kernel.accessAllowed ? 'block' : 'none';\n",
              "\n",
              "        async function convertToInteractive(key) {\n",
              "          const element = document.querySelector('#df-6c3f789d-9142-443f-ab1b-07f96d02aa80');\n",
              "          const dataTable =\n",
              "            await google.colab.kernel.invokeFunction('convertToInteractive',\n",
              "                                                     [key], {});\n",
              "          if (!dataTable) return;\n",
              "\n",
              "          const docLinkHtml = 'Like what you see? Visit the ' +\n",
              "            '<a target=\"_blank\" href=https://colab.research.google.com/notebooks/data_table.ipynb>data table notebook</a>'\n",
              "            + ' to learn more about interactive tables.';\n",
              "          element.innerHTML = '';\n",
              "          dataTable['output_type'] = 'display_data';\n",
              "          await google.colab.output.renderOutput(dataTable, element);\n",
              "          const docLink = document.createElement('div');\n",
              "          docLink.innerHTML = docLinkHtml;\n",
              "          element.appendChild(docLink);\n",
              "        }\n",
              "      </script>\n",
              "    </div>\n",
              "  </div>\n",
              "  "
            ]
          },
          "metadata": {},
          "execution_count": 5
        }
      ]
    },
    {
      "cell_type": "markdown",
      "source": [
        "<a name=\"1.4\"></a>\n",
        "## 🧽 Data Cleaning"
      ],
      "metadata": {
        "id": "qfr9kAPoO1Su"
      }
    },
    {
      "cell_type": "code",
      "source": [
        "# 1) How many rows and columns?\n",
        "num_cols,num_rows = df.shape\n",
        "print(f\"Number of Columns: {num_cols}, Number or rows: {num_rows}\")"
      ],
      "metadata": {
        "id": "S_DzIDKzDM2K",
        "colab": {
          "base_uri": "https://localhost:8080/"
        },
        "outputId": "97ebeb03-eff6-4918-a13f-20bbe636e6e7"
      },
      "execution_count": null,
      "outputs": [
        {
          "output_type": "stream",
          "name": "stdout",
          "text": [
            "Number of Columns: 569, Number or rows: 32\n"
          ]
        }
      ]
    },
    {
      "cell_type": "code",
      "source": [
        "# 2) What are the datatypes of each variable?\n",
        "df.dtypes"
      ],
      "metadata": {
        "colab": {
          "base_uri": "https://localhost:8080/"
        },
        "id": "FeufKImQycsk",
        "outputId": "f6168416-bdfa-4c57-d0cc-326e36aca784"
      },
      "execution_count": null,
      "outputs": [
        {
          "output_type": "execute_result",
          "data": {
            "text/plain": [
              "id                           int64\n",
              "diagnosis                   object\n",
              "radius_mean                float64\n",
              "texture_mean               float64\n",
              "perimeter_mean             float64\n",
              "area_mean                  float64\n",
              "smoothness_mean            float64\n",
              "compactness_mean           float64\n",
              "concavity_mean             float64\n",
              "concave points_mean        float64\n",
              "symmetry_mean              float64\n",
              "fractal_dimension_mean     float64\n",
              "radius_se                  float64\n",
              "texture_se                 float64\n",
              "perimeter_se               float64\n",
              "area_se                    float64\n",
              "smoothness_se              float64\n",
              "compactness_se             float64\n",
              "concavity_se               float64\n",
              "concave points_se          float64\n",
              "symmetry_se                float64\n",
              "fractal_dimension_se       float64\n",
              "radius_worst               float64\n",
              "texture_worst              float64\n",
              "perimeter_worst            float64\n",
              "area_worst                 float64\n",
              "smoothness_worst           float64\n",
              "compactness_worst          float64\n",
              "concavity_worst            float64\n",
              "concave points_worst       float64\n",
              "symmetry_worst             float64\n",
              "fractal_dimension_worst    float64\n",
              "dtype: object"
            ]
          },
          "metadata": {},
          "execution_count": 7
        }
      ]
    },
    {
      "cell_type": "code",
      "source": [
        "# Are there duplicates? If so, drop any duplicates.\n",
        "dups = df.duplicated().sum()\n",
        "print(f\"Number of duplicates: {dups}\")"
      ],
      "metadata": {
        "colab": {
          "base_uri": "https://localhost:8080/"
        },
        "id": "Dvm4gHldycpA",
        "outputId": "3d855515-1268-4a5d-ba0f-c01cd3584370"
      },
      "execution_count": null,
      "outputs": [
        {
          "output_type": "stream",
          "name": "stdout",
          "text": [
            "Number of duplicates: 0\n"
          ]
        }
      ]
    },
    {
      "cell_type": "code",
      "source": [
        "# 6) Confirm that there are no missing values after addressing them.\n",
        "print(f\"Are All missing values removed? {df.isna().sum().sum()==0}\")"
      ],
      "metadata": {
        "colab": {
          "base_uri": "https://localhost:8080/"
        },
        "id": "jSc_dtJc8Vb4",
        "outputId": "431eb502-69f9-4b4d-d5a2-9b1124a8fdc0"
      },
      "execution_count": null,
      "outputs": [
        {
          "output_type": "stream",
          "name": "stdout",
          "text": [
            "Are All missing values removed? True\n"
          ]
        }
      ]
    },
    {
      "cell_type": "code",
      "source": [
        "# 7) Find and fix any inconsistent categories of data\n",
        "## Item_Fat_Content\n",
        "\n",
        "df['diagnosis'].unique()"
      ],
      "metadata": {
        "colab": {
          "base_uri": "https://localhost:8080/"
        },
        "id": "7SM1aOCr8VUE",
        "outputId": "f4aa00fa-714c-48d4-8d4d-45c0e139e32d"
      },
      "execution_count": null,
      "outputs": [
        {
          "output_type": "execute_result",
          "data": {
            "text/plain": [
              "array(['M', 'B'], dtype=object)"
            ]
          },
          "metadata": {},
          "execution_count": 10
        }
      ]
    },
    {
      "cell_type": "markdown",
      "source": [
        ">There is not inconsistencies"
      ],
      "metadata": {
        "id": "SeFd9LfIPyg3"
      }
    },
    {
      "cell_type": "code",
      "source": [
        "#Repalcing target clolum values: 'M'--> 1, 'B'-->0\n",
        "df.replace({'M': 1,\n",
        "            'B': 0,}, inplace = True)"
      ],
      "metadata": {
        "id": "S_JiCZQNAJ1o"
      },
      "execution_count": null,
      "outputs": []
    },
    {
      "cell_type": "code",
      "source": [
        "#Cheking everything is OK!\n",
        "\n",
        "df['diagnosis'].unique()"
      ],
      "metadata": {
        "colab": {
          "base_uri": "https://localhost:8080/"
        },
        "id": "BQaDppR9Bbhp",
        "outputId": "1067bc85-40eb-41db-e40e-7abe3ccfa94c"
      },
      "execution_count": null,
      "outputs": [
        {
          "output_type": "execute_result",
          "data": {
            "text/plain": [
              "array([1, 0])"
            ]
          },
          "metadata": {},
          "execution_count": 12
        }
      ]
    },
    {
      "cell_type": "code",
      "source": [
        "#8) For any numerical columns, obtain the summary statistics of each (min, max, mean).\n",
        "df.describe()"
      ],
      "metadata": {
        "colab": {
          "base_uri": "https://localhost:8080/",
          "height": 382
        },
        "id": "8LhikhHsBrZy",
        "outputId": "9396a0c4-14f1-4461-cb86-8f263187d3b9"
      },
      "execution_count": null,
      "outputs": [
        {
          "output_type": "execute_result",
          "data": {
            "text/plain": [
              "                 id   diagnosis  radius_mean  texture_mean  perimeter_mean  \\\n",
              "count  5.690000e+02  569.000000   569.000000    569.000000      569.000000   \n",
              "mean   3.037183e+07    0.372583    14.127292     19.289649       91.969033   \n",
              "std    1.250206e+08    0.483918     3.524049      4.301036       24.298981   \n",
              "min    8.670000e+03    0.000000     6.981000      9.710000       43.790000   \n",
              "25%    8.692180e+05    0.000000    11.700000     16.170000       75.170000   \n",
              "50%    9.060240e+05    0.000000    13.370000     18.840000       86.240000   \n",
              "75%    8.813129e+06    1.000000    15.780000     21.800000      104.100000   \n",
              "max    9.113205e+08    1.000000    28.110000     39.280000      188.500000   \n",
              "\n",
              "         area_mean  smoothness_mean  compactness_mean  concavity_mean  \\\n",
              "count   569.000000       569.000000        569.000000      569.000000   \n",
              "mean    654.889104         0.096360          0.104341        0.088799   \n",
              "std     351.914129         0.014064          0.052813        0.079720   \n",
              "min     143.500000         0.052630          0.019380        0.000000   \n",
              "25%     420.300000         0.086370          0.064920        0.029560   \n",
              "50%     551.100000         0.095870          0.092630        0.061540   \n",
              "75%     782.700000         0.105300          0.130400        0.130700   \n",
              "max    2501.000000         0.163400          0.345400        0.426800   \n",
              "\n",
              "       concave points_mean  symmetry_mean  fractal_dimension_mean   radius_se  \\\n",
              "count           569.000000     569.000000              569.000000  569.000000   \n",
              "mean              0.048919       0.181162                0.062798    0.405172   \n",
              "std               0.038803       0.027414                0.007060    0.277313   \n",
              "min               0.000000       0.106000                0.049960    0.111500   \n",
              "25%               0.020310       0.161900                0.057700    0.232400   \n",
              "50%               0.033500       0.179200                0.061540    0.324200   \n",
              "75%               0.074000       0.195700                0.066120    0.478900   \n",
              "max               0.201200       0.304000                0.097440    2.873000   \n",
              "\n",
              "       texture_se  perimeter_se     area_se  smoothness_se  compactness_se  \\\n",
              "count  569.000000    569.000000  569.000000     569.000000      569.000000   \n",
              "mean     1.216853      2.866059   40.337079       0.007041        0.025478   \n",
              "std      0.551648      2.021855   45.491006       0.003003        0.017908   \n",
              "min      0.360200      0.757000    6.802000       0.001713        0.002252   \n",
              "25%      0.833900      1.606000   17.850000       0.005169        0.013080   \n",
              "50%      1.108000      2.287000   24.530000       0.006380        0.020450   \n",
              "75%      1.474000      3.357000   45.190000       0.008146        0.032450   \n",
              "max      4.885000     21.980000  542.200000       0.031130        0.135400   \n",
              "\n",
              "       concavity_se  concave points_se  symmetry_se  fractal_dimension_se  \\\n",
              "count    569.000000         569.000000   569.000000            569.000000   \n",
              "mean       0.031894           0.011796     0.020542              0.003795   \n",
              "std        0.030186           0.006170     0.008266              0.002646   \n",
              "min        0.000000           0.000000     0.007882              0.000895   \n",
              "25%        0.015090           0.007638     0.015160              0.002248   \n",
              "50%        0.025890           0.010930     0.018730              0.003187   \n",
              "75%        0.042050           0.014710     0.023480              0.004558   \n",
              "max        0.396000           0.052790     0.078950              0.029840   \n",
              "\n",
              "       radius_worst  texture_worst  perimeter_worst   area_worst  \\\n",
              "count    569.000000     569.000000       569.000000   569.000000   \n",
              "mean      16.269190      25.677223       107.261213   880.583128   \n",
              "std        4.833242       6.146258        33.602542   569.356993   \n",
              "min        7.930000      12.020000        50.410000   185.200000   \n",
              "25%       13.010000      21.080000        84.110000   515.300000   \n",
              "50%       14.970000      25.410000        97.660000   686.500000   \n",
              "75%       18.790000      29.720000       125.400000  1084.000000   \n",
              "max       36.040000      49.540000       251.200000  4254.000000   \n",
              "\n",
              "       smoothness_worst  compactness_worst  concavity_worst  \\\n",
              "count        569.000000         569.000000       569.000000   \n",
              "mean           0.132369           0.254265         0.272188   \n",
              "std            0.022832           0.157336         0.208624   \n",
              "min            0.071170           0.027290         0.000000   \n",
              "25%            0.116600           0.147200         0.114500   \n",
              "50%            0.131300           0.211900         0.226700   \n",
              "75%            0.146000           0.339100         0.382900   \n",
              "max            0.222600           1.058000         1.252000   \n",
              "\n",
              "       concave points_worst  symmetry_worst  fractal_dimension_worst  \n",
              "count            569.000000      569.000000               569.000000  \n",
              "mean               0.114606        0.290076                 0.083946  \n",
              "std                0.065732        0.061867                 0.018061  \n",
              "min                0.000000        0.156500                 0.055040  \n",
              "25%                0.064930        0.250400                 0.071460  \n",
              "50%                0.099930        0.282200                 0.080040  \n",
              "75%                0.161400        0.317900                 0.092080  \n",
              "max                0.291000        0.663800                 0.207500  "
            ],
            "text/html": [
              "\n",
              "  <div id=\"df-7a43902e-4dbd-4776-a6df-e637ec0591e1\">\n",
              "    <div class=\"colab-df-container\">\n",
              "      <div>\n",
              "<style scoped>\n",
              "    .dataframe tbody tr th:only-of-type {\n",
              "        vertical-align: middle;\n",
              "    }\n",
              "\n",
              "    .dataframe tbody tr th {\n",
              "        vertical-align: top;\n",
              "    }\n",
              "\n",
              "    .dataframe thead th {\n",
              "        text-align: right;\n",
              "    }\n",
              "</style>\n",
              "<table border=\"1\" class=\"dataframe\">\n",
              "  <thead>\n",
              "    <tr style=\"text-align: right;\">\n",
              "      <th></th>\n",
              "      <th>id</th>\n",
              "      <th>diagnosis</th>\n",
              "      <th>radius_mean</th>\n",
              "      <th>texture_mean</th>\n",
              "      <th>perimeter_mean</th>\n",
              "      <th>area_mean</th>\n",
              "      <th>smoothness_mean</th>\n",
              "      <th>compactness_mean</th>\n",
              "      <th>concavity_mean</th>\n",
              "      <th>concave points_mean</th>\n",
              "      <th>symmetry_mean</th>\n",
              "      <th>fractal_dimension_mean</th>\n",
              "      <th>radius_se</th>\n",
              "      <th>texture_se</th>\n",
              "      <th>perimeter_se</th>\n",
              "      <th>area_se</th>\n",
              "      <th>smoothness_se</th>\n",
              "      <th>compactness_se</th>\n",
              "      <th>concavity_se</th>\n",
              "      <th>concave points_se</th>\n",
              "      <th>symmetry_se</th>\n",
              "      <th>fractal_dimension_se</th>\n",
              "      <th>radius_worst</th>\n",
              "      <th>texture_worst</th>\n",
              "      <th>perimeter_worst</th>\n",
              "      <th>area_worst</th>\n",
              "      <th>smoothness_worst</th>\n",
              "      <th>compactness_worst</th>\n",
              "      <th>concavity_worst</th>\n",
              "      <th>concave points_worst</th>\n",
              "      <th>symmetry_worst</th>\n",
              "      <th>fractal_dimension_worst</th>\n",
              "    </tr>\n",
              "  </thead>\n",
              "  <tbody>\n",
              "    <tr>\n",
              "      <th>count</th>\n",
              "      <td>5.690000e+02</td>\n",
              "      <td>569.000000</td>\n",
              "      <td>569.000000</td>\n",
              "      <td>569.000000</td>\n",
              "      <td>569.000000</td>\n",
              "      <td>569.000000</td>\n",
              "      <td>569.000000</td>\n",
              "      <td>569.000000</td>\n",
              "      <td>569.000000</td>\n",
              "      <td>569.000000</td>\n",
              "      <td>569.000000</td>\n",
              "      <td>569.000000</td>\n",
              "      <td>569.000000</td>\n",
              "      <td>569.000000</td>\n",
              "      <td>569.000000</td>\n",
              "      <td>569.000000</td>\n",
              "      <td>569.000000</td>\n",
              "      <td>569.000000</td>\n",
              "      <td>569.000000</td>\n",
              "      <td>569.000000</td>\n",
              "      <td>569.000000</td>\n",
              "      <td>569.000000</td>\n",
              "      <td>569.000000</td>\n",
              "      <td>569.000000</td>\n",
              "      <td>569.000000</td>\n",
              "      <td>569.000000</td>\n",
              "      <td>569.000000</td>\n",
              "      <td>569.000000</td>\n",
              "      <td>569.000000</td>\n",
              "      <td>569.000000</td>\n",
              "      <td>569.000000</td>\n",
              "      <td>569.000000</td>\n",
              "    </tr>\n",
              "    <tr>\n",
              "      <th>mean</th>\n",
              "      <td>3.037183e+07</td>\n",
              "      <td>0.372583</td>\n",
              "      <td>14.127292</td>\n",
              "      <td>19.289649</td>\n",
              "      <td>91.969033</td>\n",
              "      <td>654.889104</td>\n",
              "      <td>0.096360</td>\n",
              "      <td>0.104341</td>\n",
              "      <td>0.088799</td>\n",
              "      <td>0.048919</td>\n",
              "      <td>0.181162</td>\n",
              "      <td>0.062798</td>\n",
              "      <td>0.405172</td>\n",
              "      <td>1.216853</td>\n",
              "      <td>2.866059</td>\n",
              "      <td>40.337079</td>\n",
              "      <td>0.007041</td>\n",
              "      <td>0.025478</td>\n",
              "      <td>0.031894</td>\n",
              "      <td>0.011796</td>\n",
              "      <td>0.020542</td>\n",
              "      <td>0.003795</td>\n",
              "      <td>16.269190</td>\n",
              "      <td>25.677223</td>\n",
              "      <td>107.261213</td>\n",
              "      <td>880.583128</td>\n",
              "      <td>0.132369</td>\n",
              "      <td>0.254265</td>\n",
              "      <td>0.272188</td>\n",
              "      <td>0.114606</td>\n",
              "      <td>0.290076</td>\n",
              "      <td>0.083946</td>\n",
              "    </tr>\n",
              "    <tr>\n",
              "      <th>std</th>\n",
              "      <td>1.250206e+08</td>\n",
              "      <td>0.483918</td>\n",
              "      <td>3.524049</td>\n",
              "      <td>4.301036</td>\n",
              "      <td>24.298981</td>\n",
              "      <td>351.914129</td>\n",
              "      <td>0.014064</td>\n",
              "      <td>0.052813</td>\n",
              "      <td>0.079720</td>\n",
              "      <td>0.038803</td>\n",
              "      <td>0.027414</td>\n",
              "      <td>0.007060</td>\n",
              "      <td>0.277313</td>\n",
              "      <td>0.551648</td>\n",
              "      <td>2.021855</td>\n",
              "      <td>45.491006</td>\n",
              "      <td>0.003003</td>\n",
              "      <td>0.017908</td>\n",
              "      <td>0.030186</td>\n",
              "      <td>0.006170</td>\n",
              "      <td>0.008266</td>\n",
              "      <td>0.002646</td>\n",
              "      <td>4.833242</td>\n",
              "      <td>6.146258</td>\n",
              "      <td>33.602542</td>\n",
              "      <td>569.356993</td>\n",
              "      <td>0.022832</td>\n",
              "      <td>0.157336</td>\n",
              "      <td>0.208624</td>\n",
              "      <td>0.065732</td>\n",
              "      <td>0.061867</td>\n",
              "      <td>0.018061</td>\n",
              "    </tr>\n",
              "    <tr>\n",
              "      <th>min</th>\n",
              "      <td>8.670000e+03</td>\n",
              "      <td>0.000000</td>\n",
              "      <td>6.981000</td>\n",
              "      <td>9.710000</td>\n",
              "      <td>43.790000</td>\n",
              "      <td>143.500000</td>\n",
              "      <td>0.052630</td>\n",
              "      <td>0.019380</td>\n",
              "      <td>0.000000</td>\n",
              "      <td>0.000000</td>\n",
              "      <td>0.106000</td>\n",
              "      <td>0.049960</td>\n",
              "      <td>0.111500</td>\n",
              "      <td>0.360200</td>\n",
              "      <td>0.757000</td>\n",
              "      <td>6.802000</td>\n",
              "      <td>0.001713</td>\n",
              "      <td>0.002252</td>\n",
              "      <td>0.000000</td>\n",
              "      <td>0.000000</td>\n",
              "      <td>0.007882</td>\n",
              "      <td>0.000895</td>\n",
              "      <td>7.930000</td>\n",
              "      <td>12.020000</td>\n",
              "      <td>50.410000</td>\n",
              "      <td>185.200000</td>\n",
              "      <td>0.071170</td>\n",
              "      <td>0.027290</td>\n",
              "      <td>0.000000</td>\n",
              "      <td>0.000000</td>\n",
              "      <td>0.156500</td>\n",
              "      <td>0.055040</td>\n",
              "    </tr>\n",
              "    <tr>\n",
              "      <th>25%</th>\n",
              "      <td>8.692180e+05</td>\n",
              "      <td>0.000000</td>\n",
              "      <td>11.700000</td>\n",
              "      <td>16.170000</td>\n",
              "      <td>75.170000</td>\n",
              "      <td>420.300000</td>\n",
              "      <td>0.086370</td>\n",
              "      <td>0.064920</td>\n",
              "      <td>0.029560</td>\n",
              "      <td>0.020310</td>\n",
              "      <td>0.161900</td>\n",
              "      <td>0.057700</td>\n",
              "      <td>0.232400</td>\n",
              "      <td>0.833900</td>\n",
              "      <td>1.606000</td>\n",
              "      <td>17.850000</td>\n",
              "      <td>0.005169</td>\n",
              "      <td>0.013080</td>\n",
              "      <td>0.015090</td>\n",
              "      <td>0.007638</td>\n",
              "      <td>0.015160</td>\n",
              "      <td>0.002248</td>\n",
              "      <td>13.010000</td>\n",
              "      <td>21.080000</td>\n",
              "      <td>84.110000</td>\n",
              "      <td>515.300000</td>\n",
              "      <td>0.116600</td>\n",
              "      <td>0.147200</td>\n",
              "      <td>0.114500</td>\n",
              "      <td>0.064930</td>\n",
              "      <td>0.250400</td>\n",
              "      <td>0.071460</td>\n",
              "    </tr>\n",
              "    <tr>\n",
              "      <th>50%</th>\n",
              "      <td>9.060240e+05</td>\n",
              "      <td>0.000000</td>\n",
              "      <td>13.370000</td>\n",
              "      <td>18.840000</td>\n",
              "      <td>86.240000</td>\n",
              "      <td>551.100000</td>\n",
              "      <td>0.095870</td>\n",
              "      <td>0.092630</td>\n",
              "      <td>0.061540</td>\n",
              "      <td>0.033500</td>\n",
              "      <td>0.179200</td>\n",
              "      <td>0.061540</td>\n",
              "      <td>0.324200</td>\n",
              "      <td>1.108000</td>\n",
              "      <td>2.287000</td>\n",
              "      <td>24.530000</td>\n",
              "      <td>0.006380</td>\n",
              "      <td>0.020450</td>\n",
              "      <td>0.025890</td>\n",
              "      <td>0.010930</td>\n",
              "      <td>0.018730</td>\n",
              "      <td>0.003187</td>\n",
              "      <td>14.970000</td>\n",
              "      <td>25.410000</td>\n",
              "      <td>97.660000</td>\n",
              "      <td>686.500000</td>\n",
              "      <td>0.131300</td>\n",
              "      <td>0.211900</td>\n",
              "      <td>0.226700</td>\n",
              "      <td>0.099930</td>\n",
              "      <td>0.282200</td>\n",
              "      <td>0.080040</td>\n",
              "    </tr>\n",
              "    <tr>\n",
              "      <th>75%</th>\n",
              "      <td>8.813129e+06</td>\n",
              "      <td>1.000000</td>\n",
              "      <td>15.780000</td>\n",
              "      <td>21.800000</td>\n",
              "      <td>104.100000</td>\n",
              "      <td>782.700000</td>\n",
              "      <td>0.105300</td>\n",
              "      <td>0.130400</td>\n",
              "      <td>0.130700</td>\n",
              "      <td>0.074000</td>\n",
              "      <td>0.195700</td>\n",
              "      <td>0.066120</td>\n",
              "      <td>0.478900</td>\n",
              "      <td>1.474000</td>\n",
              "      <td>3.357000</td>\n",
              "      <td>45.190000</td>\n",
              "      <td>0.008146</td>\n",
              "      <td>0.032450</td>\n",
              "      <td>0.042050</td>\n",
              "      <td>0.014710</td>\n",
              "      <td>0.023480</td>\n",
              "      <td>0.004558</td>\n",
              "      <td>18.790000</td>\n",
              "      <td>29.720000</td>\n",
              "      <td>125.400000</td>\n",
              "      <td>1084.000000</td>\n",
              "      <td>0.146000</td>\n",
              "      <td>0.339100</td>\n",
              "      <td>0.382900</td>\n",
              "      <td>0.161400</td>\n",
              "      <td>0.317900</td>\n",
              "      <td>0.092080</td>\n",
              "    </tr>\n",
              "    <tr>\n",
              "      <th>max</th>\n",
              "      <td>9.113205e+08</td>\n",
              "      <td>1.000000</td>\n",
              "      <td>28.110000</td>\n",
              "      <td>39.280000</td>\n",
              "      <td>188.500000</td>\n",
              "      <td>2501.000000</td>\n",
              "      <td>0.163400</td>\n",
              "      <td>0.345400</td>\n",
              "      <td>0.426800</td>\n",
              "      <td>0.201200</td>\n",
              "      <td>0.304000</td>\n",
              "      <td>0.097440</td>\n",
              "      <td>2.873000</td>\n",
              "      <td>4.885000</td>\n",
              "      <td>21.980000</td>\n",
              "      <td>542.200000</td>\n",
              "      <td>0.031130</td>\n",
              "      <td>0.135400</td>\n",
              "      <td>0.396000</td>\n",
              "      <td>0.052790</td>\n",
              "      <td>0.078950</td>\n",
              "      <td>0.029840</td>\n",
              "      <td>36.040000</td>\n",
              "      <td>49.540000</td>\n",
              "      <td>251.200000</td>\n",
              "      <td>4254.000000</td>\n",
              "      <td>0.222600</td>\n",
              "      <td>1.058000</td>\n",
              "      <td>1.252000</td>\n",
              "      <td>0.291000</td>\n",
              "      <td>0.663800</td>\n",
              "      <td>0.207500</td>\n",
              "    </tr>\n",
              "  </tbody>\n",
              "</table>\n",
              "</div>\n",
              "      <button class=\"colab-df-convert\" onclick=\"convertToInteractive('df-7a43902e-4dbd-4776-a6df-e637ec0591e1')\"\n",
              "              title=\"Convert this dataframe to an interactive table.\"\n",
              "              style=\"display:none;\">\n",
              "        \n",
              "  <svg xmlns=\"http://www.w3.org/2000/svg\" height=\"24px\"viewBox=\"0 0 24 24\"\n",
              "       width=\"24px\">\n",
              "    <path d=\"M0 0h24v24H0V0z\" fill=\"none\"/>\n",
              "    <path d=\"M18.56 5.44l.94 2.06.94-2.06 2.06-.94-2.06-.94-.94-2.06-.94 2.06-2.06.94zm-11 1L8.5 8.5l.94-2.06 2.06-.94-2.06-.94L8.5 2.5l-.94 2.06-2.06.94zm10 10l.94 2.06.94-2.06 2.06-.94-2.06-.94-.94-2.06-.94 2.06-2.06.94z\"/><path d=\"M17.41 7.96l-1.37-1.37c-.4-.4-.92-.59-1.43-.59-.52 0-1.04.2-1.43.59L10.3 9.45l-7.72 7.72c-.78.78-.78 2.05 0 2.83L4 21.41c.39.39.9.59 1.41.59.51 0 1.02-.2 1.41-.59l7.78-7.78 2.81-2.81c.8-.78.8-2.07 0-2.86zM5.41 20L4 18.59l7.72-7.72 1.47 1.35L5.41 20z\"/>\n",
              "  </svg>\n",
              "      </button>\n",
              "      \n",
              "  <style>\n",
              "    .colab-df-container {\n",
              "      display:flex;\n",
              "      flex-wrap:wrap;\n",
              "      gap: 12px;\n",
              "    }\n",
              "\n",
              "    .colab-df-convert {\n",
              "      background-color: #E8F0FE;\n",
              "      border: none;\n",
              "      border-radius: 50%;\n",
              "      cursor: pointer;\n",
              "      display: none;\n",
              "      fill: #1967D2;\n",
              "      height: 32px;\n",
              "      padding: 0 0 0 0;\n",
              "      width: 32px;\n",
              "    }\n",
              "\n",
              "    .colab-df-convert:hover {\n",
              "      background-color: #E2EBFA;\n",
              "      box-shadow: 0px 1px 2px rgba(60, 64, 67, 0.3), 0px 1px 3px 1px rgba(60, 64, 67, 0.15);\n",
              "      fill: #174EA6;\n",
              "    }\n",
              "\n",
              "    [theme=dark] .colab-df-convert {\n",
              "      background-color: #3B4455;\n",
              "      fill: #D2E3FC;\n",
              "    }\n",
              "\n",
              "    [theme=dark] .colab-df-convert:hover {\n",
              "      background-color: #434B5C;\n",
              "      box-shadow: 0px 1px 3px 1px rgba(0, 0, 0, 0.15);\n",
              "      filter: drop-shadow(0px 1px 2px rgba(0, 0, 0, 0.3));\n",
              "      fill: #FFFFFF;\n",
              "    }\n",
              "  </style>\n",
              "\n",
              "      <script>\n",
              "        const buttonEl =\n",
              "          document.querySelector('#df-7a43902e-4dbd-4776-a6df-e637ec0591e1 button.colab-df-convert');\n",
              "        buttonEl.style.display =\n",
              "          google.colab.kernel.accessAllowed ? 'block' : 'none';\n",
              "\n",
              "        async function convertToInteractive(key) {\n",
              "          const element = document.querySelector('#df-7a43902e-4dbd-4776-a6df-e637ec0591e1');\n",
              "          const dataTable =\n",
              "            await google.colab.kernel.invokeFunction('convertToInteractive',\n",
              "                                                     [key], {});\n",
              "          if (!dataTable) return;\n",
              "\n",
              "          const docLinkHtml = 'Like what you see? Visit the ' +\n",
              "            '<a target=\"_blank\" href=https://colab.research.google.com/notebooks/data_table.ipynb>data table notebook</a>'\n",
              "            + ' to learn more about interactive tables.';\n",
              "          element.innerHTML = '';\n",
              "          dataTable['output_type'] = 'display_data';\n",
              "          await google.colab.output.renderOutput(dataTable, element);\n",
              "          const docLink = document.createElement('div');\n",
              "          docLink.innerHTML = docLinkHtml;\n",
              "          element.appendChild(docLink);\n",
              "        }\n",
              "      </script>\n",
              "    </div>\n",
              "  </div>\n",
              "  "
            ]
          },
          "metadata": {},
          "execution_count": 13
        }
      ]
    },
    {
      "cell_type": "markdown",
      "source": [
        "<a name=\"5\"></a>\n",
        "# ⚙️ Preprocesing for Machine Learning"
      ],
      "metadata": {
        "id": "Lz46XOaqSIAk"
      }
    },
    {
      "cell_type": "markdown",
      "source": [
        "⬅️[Go back to TOC](#TOC)"
      ],
      "metadata": {
        "id": "pcXnj-YTSN52"
      }
    },
    {
      "cell_type": "code",
      "source": [
        "# Make a copy of original df to avoid any manipulations\n",
        "ml_df = df.copy()"
      ],
      "metadata": {
        "id": "t9Wj9tpERH3Z"
      },
      "execution_count": null,
      "outputs": []
    },
    {
      "cell_type": "markdown",
      "source": [
        "<a name=\"5.3\"></a>\n",
        "## Split the Data (Validation Split)"
      ],
      "metadata": {
        "id": "9x1PyTxuSUX9"
      }
    },
    {
      "cell_type": "code",
      "source": [
        "X = ml_df.drop('diagnosis', axis=1).copy()\n",
        "y = ml_df['diagnosis'].copy()\n",
        "\n",
        "labels=['benign', 'malignant']\n",
        "\n",
        "\n",
        "X_train, X_test, y_train, y_test = train_test_split(X, y, random_state=24)"
      ],
      "metadata": {
        "id": "6XSS8cCSr13y"
      },
      "execution_count": null,
      "outputs": []
    },
    {
      "cell_type": "markdown",
      "source": [
        "<a name=\"5.4\"></a>\n",
        "## Column Selector"
      ],
      "metadata": {
        "id": "p3rvR3yQU4DG"
      }
    },
    {
      "cell_type": "code",
      "source": [
        "## Make a column selector for categories & test it -sanity check\n",
        "num_selector = make_column_selector(dtype_include='number')\n",
        "##cat_sel = make_column_selector(dtype_include='object')"
      ],
      "metadata": {
        "id": "7zyoWHB7U-MX"
      },
      "execution_count": null,
      "outputs": []
    },
    {
      "cell_type": "markdown",
      "source": [
        "<a name=\"5.5\"></a>\n",
        "## Transformers"
      ],
      "metadata": {
        "id": "b4qo2Ho0VP46"
      }
    },
    {
      "cell_type": "code",
      "source": [
        "# Instantiate the transformers\n",
        "scaler = StandardScaler()"
      ],
      "metadata": {
        "id": "zx-YdEMLVXqR"
      },
      "execution_count": null,
      "outputs": []
    },
    {
      "cell_type": "markdown",
      "source": [
        "> No need for inputers as we don't have missing vales on the studied dataset"
      ],
      "metadata": {
        "id": "-7i0CQt9V1sW"
      }
    },
    {
      "cell_type": "markdown",
      "source": [
        "<a name=\"5.6\"></a>\n",
        "## Pipeline Numeric Data"
      ],
      "metadata": {
        "id": "0yfms_1mWJ-g"
      }
    },
    {
      "cell_type": "markdown",
      "source": [
        "⬅️[Go back to TOC](#TOC)"
      ],
      "metadata": {
        "id": "SJDw7bVNWiQ2"
      }
    },
    {
      "cell_type": "code",
      "source": [
        "num_pipeline = make_pipeline(scaler)"
      ],
      "metadata": {
        "id": "ImDpRwnPWoc_"
      },
      "execution_count": null,
      "outputs": []
    },
    {
      "cell_type": "markdown",
      "source": [
        "<a name=\"5.7\"></a>\n",
        "## **Tuples**"
      ],
      "metadata": {
        "id": "DihkTYjaWzkY"
      }
    },
    {
      "cell_type": "code",
      "source": [
        "# Create tuples\n",
        "number_tuple = (num_pipeline, num_selector)"
      ],
      "metadata": {
        "id": "2mfmWUCoW5e4"
      },
      "execution_count": null,
      "outputs": []
    },
    {
      "cell_type": "markdown",
      "source": [
        "<a name=\"5.8\"></a>\n",
        "## ColumnTransformer & Preprocessing"
      ],
      "metadata": {
        "id": "e6ZohGQokyoq"
      }
    },
    {
      "cell_type": "code",
      "source": [
        "# Create the preprocessor using make_column_transformer\n",
        "preprocessor = make_column_transformer(number_tuple,\n",
        "                                       remainder='drop')\n",
        "preprocessor"
      ],
      "metadata": {
        "id": "4gz4Gezz3T6H",
        "colab": {
          "base_uri": "https://localhost:8080/",
          "height": 118
        },
        "outputId": "f0447177-a5f8-4b5e-da1a-da524b83b4fa"
      },
      "execution_count": null,
      "outputs": [
        {
          "output_type": "execute_result",
          "data": {
            "text/plain": [
              "ColumnTransformer(transformers=[('pipeline',\n",
              "                                 Pipeline(steps=[('standardscaler',\n",
              "                                                  StandardScaler())]),\n",
              "                                 <sklearn.compose._column_transformer.make_column_selector object at 0x7f2c64825df0>)])"
            ],
            "text/html": [
              "<style>#sk-f94874bb-67b4-4fd0-ae53-9e68789cc1df {color: black;background-color: white;}#sk-f94874bb-67b4-4fd0-ae53-9e68789cc1df pre{padding: 0;}#sk-f94874bb-67b4-4fd0-ae53-9e68789cc1df div.sk-toggleable {background-color: white;}#sk-f94874bb-67b4-4fd0-ae53-9e68789cc1df label.sk-toggleable__label {cursor: pointer;display: block;width: 100%;margin-bottom: 0;padding: 0.3em;box-sizing: border-box;text-align: center;}#sk-f94874bb-67b4-4fd0-ae53-9e68789cc1df label.sk-toggleable__label-arrow:before {content: \"▸\";float: left;margin-right: 0.25em;color: #696969;}#sk-f94874bb-67b4-4fd0-ae53-9e68789cc1df label.sk-toggleable__label-arrow:hover:before {color: black;}#sk-f94874bb-67b4-4fd0-ae53-9e68789cc1df div.sk-estimator:hover label.sk-toggleable__label-arrow:before {color: black;}#sk-f94874bb-67b4-4fd0-ae53-9e68789cc1df div.sk-toggleable__content {max-height: 0;max-width: 0;overflow: hidden;text-align: left;background-color: #f0f8ff;}#sk-f94874bb-67b4-4fd0-ae53-9e68789cc1df div.sk-toggleable__content pre {margin: 0.2em;color: black;border-radius: 0.25em;background-color: #f0f8ff;}#sk-f94874bb-67b4-4fd0-ae53-9e68789cc1df input.sk-toggleable__control:checked~div.sk-toggleable__content {max-height: 200px;max-width: 100%;overflow: auto;}#sk-f94874bb-67b4-4fd0-ae53-9e68789cc1df input.sk-toggleable__control:checked~label.sk-toggleable__label-arrow:before {content: \"▾\";}#sk-f94874bb-67b4-4fd0-ae53-9e68789cc1df div.sk-estimator input.sk-toggleable__control:checked~label.sk-toggleable__label {background-color: #d4ebff;}#sk-f94874bb-67b4-4fd0-ae53-9e68789cc1df div.sk-label input.sk-toggleable__control:checked~label.sk-toggleable__label {background-color: #d4ebff;}#sk-f94874bb-67b4-4fd0-ae53-9e68789cc1df input.sk-hidden--visually {border: 0;clip: rect(1px 1px 1px 1px);clip: rect(1px, 1px, 1px, 1px);height: 1px;margin: -1px;overflow: hidden;padding: 0;position: absolute;width: 1px;}#sk-f94874bb-67b4-4fd0-ae53-9e68789cc1df div.sk-estimator {font-family: monospace;background-color: #f0f8ff;border: 1px dotted black;border-radius: 0.25em;box-sizing: border-box;margin-bottom: 0.5em;}#sk-f94874bb-67b4-4fd0-ae53-9e68789cc1df div.sk-estimator:hover {background-color: #d4ebff;}#sk-f94874bb-67b4-4fd0-ae53-9e68789cc1df div.sk-parallel-item::after {content: \"\";width: 100%;border-bottom: 1px solid gray;flex-grow: 1;}#sk-f94874bb-67b4-4fd0-ae53-9e68789cc1df div.sk-label:hover label.sk-toggleable__label {background-color: #d4ebff;}#sk-f94874bb-67b4-4fd0-ae53-9e68789cc1df div.sk-serial::before {content: \"\";position: absolute;border-left: 1px solid gray;box-sizing: border-box;top: 2em;bottom: 0;left: 50%;}#sk-f94874bb-67b4-4fd0-ae53-9e68789cc1df div.sk-serial {display: flex;flex-direction: column;align-items: center;background-color: white;padding-right: 0.2em;padding-left: 0.2em;}#sk-f94874bb-67b4-4fd0-ae53-9e68789cc1df div.sk-item {z-index: 1;}#sk-f94874bb-67b4-4fd0-ae53-9e68789cc1df div.sk-parallel {display: flex;align-items: stretch;justify-content: center;background-color: white;}#sk-f94874bb-67b4-4fd0-ae53-9e68789cc1df div.sk-parallel::before {content: \"\";position: absolute;border-left: 1px solid gray;box-sizing: border-box;top: 2em;bottom: 0;left: 50%;}#sk-f94874bb-67b4-4fd0-ae53-9e68789cc1df div.sk-parallel-item {display: flex;flex-direction: column;position: relative;background-color: white;}#sk-f94874bb-67b4-4fd0-ae53-9e68789cc1df div.sk-parallel-item:first-child::after {align-self: flex-end;width: 50%;}#sk-f94874bb-67b4-4fd0-ae53-9e68789cc1df div.sk-parallel-item:last-child::after {align-self: flex-start;width: 50%;}#sk-f94874bb-67b4-4fd0-ae53-9e68789cc1df div.sk-parallel-item:only-child::after {width: 0;}#sk-f94874bb-67b4-4fd0-ae53-9e68789cc1df div.sk-dashed-wrapped {border: 1px dashed gray;margin: 0 0.4em 0.5em 0.4em;box-sizing: border-box;padding-bottom: 0.4em;background-color: white;position: relative;}#sk-f94874bb-67b4-4fd0-ae53-9e68789cc1df div.sk-label label {font-family: monospace;font-weight: bold;background-color: white;display: inline-block;line-height: 1.2em;}#sk-f94874bb-67b4-4fd0-ae53-9e68789cc1df div.sk-label-container {position: relative;z-index: 2;text-align: center;}#sk-f94874bb-67b4-4fd0-ae53-9e68789cc1df div.sk-container {/* jupyter's `normalize.less` sets `[hidden] { display: none; }` but bootstrap.min.css set `[hidden] { display: none !important; }` so we also need the `!important` here to be able to override the default hidden behavior on the sphinx rendered scikit-learn.org. See: https://github.com/scikit-learn/scikit-learn/issues/21755 */display: inline-block !important;position: relative;}#sk-f94874bb-67b4-4fd0-ae53-9e68789cc1df div.sk-text-repr-fallback {display: none;}</style><div id=\"sk-f94874bb-67b4-4fd0-ae53-9e68789cc1df\" class=\"sk-top-container\"><div class=\"sk-text-repr-fallback\"><pre>ColumnTransformer(transformers=[(&#x27;pipeline&#x27;,\n",
              "                                 Pipeline(steps=[(&#x27;standardscaler&#x27;,\n",
              "                                                  StandardScaler())]),\n",
              "                                 &lt;sklearn.compose._column_transformer.make_column_selector object at 0x7f2c64825df0&gt;)])</pre><b>Please rerun this cell to show the HTML repr or trust the notebook.</b></div><div class=\"sk-container\" hidden><div class=\"sk-item sk-dashed-wrapped\"><div class=\"sk-label-container\"><div class=\"sk-label sk-toggleable\"><input class=\"sk-toggleable__control sk-hidden--visually\" id=\"b12b6df2-39b6-4de2-8767-7c971ab97fb3\" type=\"checkbox\" ><label for=\"b12b6df2-39b6-4de2-8767-7c971ab97fb3\" class=\"sk-toggleable__label sk-toggleable__label-arrow\">ColumnTransformer</label><div class=\"sk-toggleable__content\"><pre>ColumnTransformer(transformers=[(&#x27;pipeline&#x27;,\n",
              "                                 Pipeline(steps=[(&#x27;standardscaler&#x27;,\n",
              "                                                  StandardScaler())]),\n",
              "                                 &lt;sklearn.compose._column_transformer.make_column_selector object at 0x7f2c64825df0&gt;)])</pre></div></div></div><div class=\"sk-parallel\"><div class=\"sk-parallel-item\"><div class=\"sk-item\"><div class=\"sk-label-container\"><div class=\"sk-label sk-toggleable\"><input class=\"sk-toggleable__control sk-hidden--visually\" id=\"daba1d7e-bdd2-4bce-8697-dc96f174c7ab\" type=\"checkbox\" ><label for=\"daba1d7e-bdd2-4bce-8697-dc96f174c7ab\" class=\"sk-toggleable__label sk-toggleable__label-arrow\">pipeline</label><div class=\"sk-toggleable__content\"><pre>&lt;sklearn.compose._column_transformer.make_column_selector object at 0x7f2c64825df0&gt;</pre></div></div></div><div class=\"sk-serial\"><div class=\"sk-item\"><div class=\"sk-serial\"><div class=\"sk-item\"><div class=\"sk-estimator sk-toggleable\"><input class=\"sk-toggleable__control sk-hidden--visually\" id=\"ea32b905-90f6-4698-a78b-3e80a45241ce\" type=\"checkbox\" ><label for=\"ea32b905-90f6-4698-a78b-3e80a45241ce\" class=\"sk-toggleable__label sk-toggleable__label-arrow\">StandardScaler</label><div class=\"sk-toggleable__content\"><pre>StandardScaler()</pre></div></div></div></div></div></div></div></div></div></div></div></div>"
            ]
          },
          "metadata": {},
          "execution_count": 20
        }
      ]
    },
    {
      "cell_type": "markdown",
      "source": [
        "<a name=\"6\"></a>\n",
        "# 📐Maching Learning - Training the Models"
      ],
      "metadata": {
        "id": "geXL-Wzamjqm"
      }
    },
    {
      "cell_type": "markdown",
      "source": [
        "⬅️[Go back to TOC](#TOC)"
      ],
      "metadata": {
        "id": "GIqvduYAYMfa"
      }
    },
    {
      "cell_type": "markdown",
      "source": [
        "<a name=\"6.1\"></a>\n",
        "## 🐍 Functions"
      ],
      "metadata": {
        "id": "NTFSMsQ_YZH6"
      }
    },
    {
      "cell_type": "markdown",
      "source": [
        "  **Metrics for X_train**\n",
        "\n",
        "  mae = mean_absolute_error(y_train, model_pipeline.predict(x_train))\n",
        "\n",
        "  mse = mean_squared_error(y_train, model_pipeline.predict(x_train))\n",
        "\n",
        "  rmse = np.sqrt(mean_squared_error(y_train, model_pipeline.predict(x_train)))\n",
        "\n",
        "  r2 = r2_score(y_train, model_pipeline.predict(x_train))"
      ],
      "metadata": {
        "id": "NLxAVjS1Y8An"
      }
    },
    {
      "cell_type": "markdown",
      "source": [
        "**Metrics for X_test**\n",
        "\n",
        "  mae = mean_absolute_error(y_test, model_pipeline.predict(x_test))\n",
        "\n",
        "  mse = mean_squared_error(y_test, model_pipeline.predict(x_test))\n",
        "\n",
        "  rmse = np.sqrt(mean_squared_error(y_test, model_pipeline.predict(x_test)))\n",
        "\n",
        "  r2 = r2_score(y_test, model_pipeline.predict(x_test))"
      ],
      "metadata": {
        "id": "-6ymVAlAY9i4"
      }
    },
    {
      "cell_type": "code",
      "source": [
        "# Create a function to take the true and predicted values\n",
        "# and print MAE, MSE, RMSE, and R2 metrics\n",
        "def model_metrics(pipe, x_train, y_train, x_test, y_test,\n",
        "                       model_name='Regression Model', ):\n",
        "  # Train\n",
        "  mae = round(mean_absolute_error(y_train, pipe.predict(x_train)),4)\n",
        "  mse = round(mean_squared_error(y_train, pipe.predict(x_train)),4)\n",
        "  rmse = round(np.sqrt(mean_squared_error(y_train, pipe.predict(x_train))),4)\n",
        "  r2 = round(r2_score(y_train, pipe.predict(x_train)),7)\n",
        "  print(f'{model_name} Train Scores')\n",
        "  print(f'MAE: {mae} \\nMSE: {mse} \\nRMSE: {rmse} \\nR2: {r2}\\n')\n",
        "\n",
        "  # Test\n",
        "  mae = round(mean_absolute_error(y_test, pipe.predict(x_test)),4)\n",
        "  mse = round(mean_squared_error(y_test, pipe.predict(x_test)),4)\n",
        "  rmse = round(np.sqrt(mean_squared_error(y_test, pipe.predict(x_test))),4)\n",
        "  r2 = round(r2_score(y_test, pipe.predict(x_test)),7)\n",
        "\n",
        "  # Display the metrics for the model\n",
        "  print(f'{model_name} Test Scores')\n",
        "  print(f'MAE: {mae} \\nMSE: {mse} \\nRMSE: {rmse} \\nR2: {r2}\\n')"
      ],
      "metadata": {
        "id": "mh202_XaYpkY"
      },
      "execution_count": null,
      "outputs": []
    },
    {
      "cell_type": "markdown",
      "source": [
        ">evaluate_classiffication Function<br>\n",
        "\n",
        "\n",
        "- Let's combine the model evaluation steps for classification models into a new function called `evaluate_classification`.\n",
        "\n",
        "- The function should have the following arguments:\n",
        "  - model\n",
        "  - X_test\n",
        "  - y_test\n",
        "  - + any other plot customization options.\n",
        "\n",
        "- Inside the function, it will:\n",
        "  - Print a header with a label indicating if we are evaluating Training Data or Test data.\n",
        "\n",
        "  - Get the predictions for X_test from the model.\n",
        "  - Get and print a classification_report\n",
        "  - Create a figure with 2 subplots:\n",
        "    - a Confusion Matrix\n",
        "    - a ROC Curve Display\n",
        "\n",
        "\n"
      ],
      "metadata": {
        "id": "nZ6QALGHYv_F"
      }
    },
    {
      "cell_type": "code",
      "source": [
        "def evaluate_classiffication(model, X_test, y_test, label='Test Data',\n",
        "                             figsize=(15,5), normalize='true',\n",
        "                             cmap='Greens'):\n",
        "\n",
        "    fig, axes = plt.subplots(1,2, figsize=figsize)\n",
        "\n",
        "    ## Get Predictions\n",
        "    y_pred = model.predict(X_test)\n",
        "\n",
        "   ## Print classification report for the test data (and make it pretty!)\n",
        "    print('---'*20)\n",
        "    print(f\"[i] CLASSIFICATION REPORT FOR: {label}\")\n",
        "    print('---'*20)\n",
        "\n",
        "    print(classification_report(y_test, y_pred))\n",
        "\n",
        "    ConfusionMatrixDisplay.from_predictions(y_test,y_pred,\n",
        "                normalize=normalize, cmap=cmap,\n",
        "                ax=axes[0])\n",
        "\n",
        "    RocCurveDisplay.from_estimator(model, X_test, y_test,\n",
        "                                   ax=axes[1])\n",
        "    plt.show()\n",
        ""
      ],
      "metadata": {
        "id": "_80UpkyhYwsx"
      },
      "execution_count": null,
      "outputs": []
    },
    {
      "cell_type": "markdown",
      "source": [
        "<a name=\"6.2\"></a>\n",
        "## ▶ Model Data: LogisticRegression"
      ],
      "metadata": {
        "id": "3cr1WHyeZpK0"
      }
    },
    {
      "cell_type": "markdown",
      "source": [
        "⬅️[Go back to TOC](#TOC)"
      ],
      "metadata": {
        "id": "XJttvq9AayG6"
      }
    },
    {
      "cell_type": "markdown",
      "source": [
        "<a name=\"6.2.1\"></a>\n",
        "### Fit a LogisticRegression model"
      ],
      "metadata": {
        "id": "9uB6GF3ooePX"
      }
    },
    {
      "cell_type": "code",
      "source": [
        "# fit model\n",
        "lgr_pipe = make_pipeline(preprocessor, LogisticRegression())\n",
        "lgr_pipe.fit(X_train, y_train)\n",
        "\n",
        "# get predictions\n",
        "train_preds = lgr_pipe.predict(X_train)\n",
        "test_preds = lgr_pipe.predict(X_test)\n",
        "\n",
        "train_preds[:5]"
      ],
      "metadata": {
        "id": "NJqQ8bESr6ph",
        "colab": {
          "base_uri": "https://localhost:8080/",
          "height": 236
        },
        "outputId": "f4974703-b037-4034-8759-df2a0f149e0b"
      },
      "execution_count": null,
      "outputs": [
        {
          "output_type": "error",
          "ename": "NameError",
          "evalue": "ignored",
          "traceback": [
            "\u001b[0;31m---------------------------------------------------------------------------\u001b[0m",
            "\u001b[0;31mNameError\u001b[0m                                 Traceback (most recent call last)",
            "\u001b[0;32m<ipython-input-26-e16cea1e6883>\u001b[0m in \u001b[0;36m<module>\u001b[0;34m\u001b[0m\n\u001b[1;32m      1\u001b[0m \u001b[0;31m# fit model\u001b[0m\u001b[0;34m\u001b[0m\u001b[0;34m\u001b[0m\u001b[0;34m\u001b[0m\u001b[0m\n\u001b[0;32m----> 2\u001b[0;31m \u001b[0mlgr_pipe\u001b[0m \u001b[0;34m=\u001b[0m \u001b[0mmake_pipeline\u001b[0m\u001b[0;34m(\u001b[0m\u001b[0mpreprocessor\u001b[0m\u001b[0;34m,\u001b[0m \u001b[0mLogisticRegression\u001b[0m\u001b[0;34m(\u001b[0m\u001b[0;34m)\u001b[0m\u001b[0;34m)\u001b[0m\u001b[0;34m\u001b[0m\u001b[0;34m\u001b[0m\u001b[0m\n\u001b[0m\u001b[1;32m      3\u001b[0m \u001b[0mlgr_pipe\u001b[0m\u001b[0;34m.\u001b[0m\u001b[0mfit\u001b[0m\u001b[0;34m(\u001b[0m\u001b[0mX_train\u001b[0m\u001b[0;34m,\u001b[0m \u001b[0my_train\u001b[0m\u001b[0;34m)\u001b[0m\u001b[0;34m\u001b[0m\u001b[0;34m\u001b[0m\u001b[0m\n\u001b[1;32m      4\u001b[0m \u001b[0;34m\u001b[0m\u001b[0m\n\u001b[1;32m      5\u001b[0m \u001b[0;31m# get predictions\u001b[0m\u001b[0;34m\u001b[0m\u001b[0;34m\u001b[0m\u001b[0;34m\u001b[0m\u001b[0m\n",
            "\u001b[0;31mNameError\u001b[0m: name 'LogisticRegression' is not defined"
          ]
        }
      ]
    },
    {
      "cell_type": "markdown",
      "source": [
        "<a name=\"6.2.2\"></a>\n",
        "### Evaluating Our Model"
      ],
      "metadata": {
        "id": "Hz3DrxAOXuSh"
      }
    },
    {
      "cell_type": "code",
      "source": [
        "# print the classiffication report from the test data\n",
        "print(classification_report(y_test, test_preds, target_names=labels ))"
      ],
      "metadata": {
        "id": "ALlr574WGv_e",
        "colab": {
          "base_uri": "https://localhost:8080/"
        },
        "outputId": "68770f09-5887-4613-dd27-79f939882993"
      },
      "execution_count": null,
      "outputs": [
        {
          "output_type": "stream",
          "name": "stdout",
          "text": [
            "              precision    recall  f1-score   support\n",
            "\n",
            "      benign       0.97      0.97      0.97        90\n",
            "   malignant       0.94      0.94      0.94        53\n",
            "\n",
            "    accuracy                           0.96       143\n",
            "   macro avg       0.96      0.96      0.96       143\n",
            "weighted avg       0.96      0.96      0.96       143\n",
            "\n"
          ]
        }
      ]
    },
    {
      "cell_type": "code",
      "source": [
        "# create a confusion matrix with the test data\n",
        "ConfusionMatrixDisplay.from_predictions(y_test, test_preds,\n",
        "               normalize='true', display_labels=labels, cmap='Greens');"
      ],
      "metadata": {
        "id": "S-VrxrXJUlin",
        "colab": {
          "base_uri": "https://localhost:8080/",
          "height": 279
        },
        "outputId": "303405d5-21aa-4876-f1c5-307c09be9127"
      },
      "execution_count": null,
      "outputs": [
        {
          "output_type": "display_data",
          "data": {
            "text/plain": [
              "<Figure size 432x288 with 2 Axes>"
            ],
            "image/png": "[encoded data removed]"
          },
          "metadata": {
            "needs_background": "light"
          }
        }
      ]
    },
    {
      "cell_type": "markdown",
      "source": [
        "<a name=\"6.2.3\"></a>\n",
        "### Changing Decision Thresholds"
      ],
      "metadata": {
        "id": "xeHoEb8VH1i0"
      }
    },
    {
      "cell_type": "markdown",
      "source": [
        "⬅️[Go back to TOC](#TOC)"
      ],
      "metadata": {
        "id": "Hl1uXUL5buiQ"
      }
    },
    {
      "cell_type": "code",
      "source": [
        "# Get the predicted probabilities instead of predicted classes\n",
        "train_probs = lgr_pipe.predict_proba(X_train)\n",
        "test_probs = lgr_pipe.predict_proba(X_test)\n",
        "\n",
        "train_probs[:5]"
      ],
      "metadata": {
        "id": "VqtBlgb-AMSE",
        "colab": {
          "base_uri": "https://localhost:8080/"
        },
        "outputId": "bcee4aec-5b78-40d7-c5e7-0524227b020b"
      },
      "execution_count": null,
      "outputs": [
        {
          "output_type": "execute_result",
          "data": {
            "text/plain": [
              "array([[1.61928821e-06, 9.99998381e-01],\n",
              "       [9.99912147e-01, 8.78528505e-05],\n",
              "       [3.41889184e-10, 1.00000000e+00],\n",
              "       [9.89770906e-01, 1.02290940e-02],\n",
              "       [5.06064149e-04, 9.99493936e-01]])"
            ]
          },
          "metadata": {},
          "execution_count": 45
        }
      ]
    },
    {
      "cell_type": "markdown",
      "source": [
        "- What if we used a probability threshold of 0.4 instead of the default (0.5)?"
      ],
      "metadata": {
        "id": "Ms7FbcUuoqcH"
      }
    },
    {
      "cell_type": "code",
      "source": [
        "thresh = 0.40\n",
        "\n",
        "# use list comprehension to apply threshold to 2nd value in each prediction\n",
        "train_thresh = [1 if x[1] > thresh else 0 for x in train_probs]\n",
        "test_thresh = [1 if x[1] > thresh else 0 for x in test_probs]\n",
        "\n",
        "print(f'Predictions with the default decision threshold of .5')\n",
        "print(train_preds[:5], '\\n')\n",
        "\n",
        "print(f'Predictions with a decision threshold of {thresh}')\n",
        "print(train_thresh[:5], '\\n')\n",
        "\n",
        "print('True Labels')\n",
        "print(y_train[:5].values)"
      ],
      "metadata": {
        "id": "Cu4av1i_kRYc",
        "colab": {
          "base_uri": "https://localhost:8080/"
        },
        "outputId": "8c0ec33a-61b6-4456-ce87-d8b525dbb527"
      },
      "execution_count": null,
      "outputs": [
        {
          "output_type": "stream",
          "name": "stdout",
          "text": [
            "Predictions with the default decision threshold of .5\n",
            "[1 0 1 0 1] \n",
            "\n",
            "Predictions with a decision threshold of 0.4\n",
            "[1, 0, 1, 0, 1] \n",
            "\n",
            "True Labels\n",
            "[1 0 1 0 1]\n"
          ]
        }
      ]
    },
    {
      "cell_type": "markdown",
      "source": [
        "⬅️[Go back to TOC](#TOC)"
      ],
      "metadata": {
        "id": "YmL1zInRe1xY"
      }
    },
    {
      "cell_type": "markdown",
      "source": [
        "<a name=\"6.2.4\"></a>\n",
        "### Comparing Confusion Matrices"
      ],
      "metadata": {
        "id": "0wDbSOKtmyPW"
      }
    },
    {
      "cell_type": "code",
      "source": [
        "# plot confusion matrix for both .5 and 'thresh' thresholds\n",
        "fig, axes = plt.subplots(1,2, figsize=(15,5))\n",
        "\n",
        "ConfusionMatrixDisplay.from_predictions(y_test, test_preds,\n",
        "               normalize='true', display_labels=labels,  cmap='Greens',\n",
        "               ax=axes[0])\n",
        "axes[0].set_title('Decision Threshold .5')\n",
        "\n",
        "\n",
        "ConfusionMatrixDisplay.from_predictions(y_test, test_thresh,\n",
        "               normalize='true', display_labels=labels,  cmap='Blues',\n",
        "               ax=axes[1])\n",
        "\n",
        "axes[1].set_title(f'Decision Threshold {thresh}');"
      ],
      "metadata": {
        "id": "o77eRJxfC1FH",
        "colab": {
          "base_uri": "https://localhost:8080/",
          "height": 350
        },
        "outputId": "77199e87-902f-4805-ce2a-42889b1baaa2"
      },
      "execution_count": null,
      "outputs": [
        {
          "output_type": "display_data",
          "data": {
            "text/plain": [
              "<Figure size 1080x360 with 4 Axes>"
            ],
            "image/png": "[encoded data removed]"
          },
          "metadata": {
            "needs_background": "light"
          }
        }
      ]
    },
    {
      "cell_type": "markdown",
      "source": [
        "<a name=\"6.2.5\"></a>\n",
        "### Loop Over Decision Thresholds"
      ],
      "metadata": {
        "id": "O_620SQ8lN9B"
      }
    },
    {
      "cell_type": "markdown",
      "source": [
        "⬅️[Go back to TOC](#TOC)"
      ],
      "metadata": {
        "id": "kMtcCAHif5Is"
      }
    },
    {
      "cell_type": "markdown",
      "source": [
        "- Let's check our model's accuracy for 20 different probabiltiy thresholds and compare."
      ],
      "metadata": {
        "id": "Z0l7w5HSt0L-"
      }
    },
    {
      "cell_type": "code",
      "source": [
        "# Create an array of 20 thesholds to use\n",
        "thresholds = np.array(range(0,105,5)) / 100\n",
        "thresholds[:5]"
      ],
      "metadata": {
        "id": "Eb3t-Zf2eK7j",
        "colab": {
          "base_uri": "https://localhost:8080/"
        },
        "outputId": "e952c0d6-8000-4800-f44e-257bc540d562"
      },
      "execution_count": null,
      "outputs": [
        {
          "output_type": "execute_result",
          "data": {
            "text/plain": [
              "array([0.  , 0.05, 0.1 , 0.15, 0.2 ])"
            ]
          },
          "metadata": {},
          "execution_count": 48
        }
      ]
    },
    {
      "cell_type": "code",
      "source": [
        "\n",
        "score_df = pd.DataFrame(index=thresholds, columns=['Train Accuracy','Test Accuracy'])\n",
        "\n",
        "## for each threshold:\n",
        "for thresh in thresholds:\n",
        "\n",
        "  ## Get the predicted classes for training and test data\n",
        "  train_thresh = [1 if x[1] > thresh else 0 for x in train_probs]\n",
        "  test_thresh = [1 if x[1] > thresh else 0 for x in test_probs]\n",
        "\n",
        "  ## Save the Training and test accuracy scores to the score_df\n",
        "  score_df.loc[thresh, 'Train Accuracy'] = accuracy_score(train_thresh, y_train)\n",
        "  score_df.loc[thresh, 'Test Accuracy'] = accuracy_score(test_thresh, y_test)\n",
        "\n",
        "\n",
        "## Plot the results\n",
        "score_df.plot(marker='.')\n",
        "plt.xlabel('Decision Threshold')\n",
        "plt.ylabel('Accuracy Score')"
      ],
      "metadata": {
        "id": "haRAN8qwuHr_",
        "colab": {
          "base_uri": "https://localhost:8080/",
          "height": 296
        },
        "outputId": "d2072fd5-a6ce-4877-d290-d12446ec0cbb"
      },
      "execution_count": null,
      "outputs": [
        {
          "output_type": "execute_result",
          "data": {
            "text/plain": [
              "Text(0, 0.5, 'Accuracy Score')"
            ]
          },
          "metadata": {},
          "execution_count": 49
        },
        {
          "output_type": "display_data",
          "data": {
            "text/plain": [
              "<Figure size 432x288 with 1 Axes>"
            ],
            "image/png": "[encoded data removed]"
          },
          "metadata": {
            "needs_background": "light"
          }
        }
      ]
    },
    {
      "cell_type": "code",
      "source": [
        "df['diagnosis'].value_counts(normalize=True)"
      ],
      "metadata": {
        "id": "Wp3ngVShnU6J",
        "outputId": "a1903f70-1512-41a9-d234-78c74f306a3d",
        "colab": {
          "base_uri": "https://localhost:8080/"
        }
      },
      "execution_count": null,
      "outputs": [
        {
          "output_type": "execute_result",
          "data": {
            "text/plain": [
              "0    0.627417\n",
              "1    0.372583\n",
              "Name: diagnosis, dtype: float64"
            ]
          },
          "metadata": {},
          "execution_count": 51
        }
      ]
    },
    {
      "cell_type": "code",
      "source": [
        "score_df.sort_values(by='Test Accuracy', ascending=False)"
      ],
      "metadata": {
        "id": "IRCsRd1CmSJp",
        "colab": {
          "base_uri": "https://localhost:8080/",
          "height": 708
        },
        "outputId": "29fb7115-65ae-4941-c691-83bbe8329306"
      },
      "execution_count": null,
      "outputs": [
        {
          "output_type": "execute_result",
          "data": {
            "text/plain": [
              "     Train Accuracy Test Accuracy\n",
              "0.85       0.964789      0.972028\n",
              "0.80       0.969484      0.972028\n",
              "0.75       0.974178      0.972028\n",
              "0.90       0.957746      0.965035\n",
              "0.70       0.981221      0.965035\n",
              "0.55       0.988263      0.965035\n",
              "0.95        0.93662      0.958042\n",
              "0.65       0.985915      0.958042\n",
              "0.60       0.985915      0.958042\n",
              "0.50       0.988263      0.958042\n",
              "0.40       0.985915      0.958042\n",
              "0.35       0.983568      0.958042\n",
              "0.45        0.99061      0.958042\n",
              "0.30       0.981221      0.944056\n",
              "0.25       0.974178      0.937063\n",
              "0.20       0.962441      0.937063\n",
              "0.15       0.957746      0.937063\n",
              "0.10       0.943662      0.923077\n",
              "0.05        0.91784      0.888112\n",
              "1.00       0.626761      0.629371\n",
              "0.00       0.373239      0.370629"
            ],
            "text/html": [
              "\n",
              "  <div id=\"df-f193cbb3-ae08-4935-b71c-c06af25797fd\">\n",
              "    <div class=\"colab-df-container\">\n",
              "      <div>\n",
              "<style scoped>\n",
              "    .dataframe tbody tr th:only-of-type {\n",
              "        vertical-align: middle;\n",
              "    }\n",
              "\n",
              "    .dataframe tbody tr th {\n",
              "        vertical-align: top;\n",
              "    }\n",
              "\n",
              "    .dataframe thead th {\n",
              "        text-align: right;\n",
              "    }\n",
              "</style>\n",
              "<table border=\"1\" class=\"dataframe\">\n",
              "  <thead>\n",
              "    <tr style=\"text-align: right;\">\n",
              "      <th></th>\n",
              "      <th>Train Accuracy</th>\n",
              "      <th>Test Accuracy</th>\n",
              "    </tr>\n",
              "  </thead>\n",
              "  <tbody>\n",
              "    <tr>\n",
              "      <th>0.85</th>\n",
              "      <td>0.964789</td>\n",
              "      <td>0.972028</td>\n",
              "    </tr>\n",
              "    <tr>\n",
              "      <th>0.80</th>\n",
              "      <td>0.969484</td>\n",
              "      <td>0.972028</td>\n",
              "    </tr>\n",
              "    <tr>\n",
              "      <th>0.75</th>\n",
              "      <td>0.974178</td>\n",
              "      <td>0.972028</td>\n",
              "    </tr>\n",
              "    <tr>\n",
              "      <th>0.90</th>\n",
              "      <td>0.957746</td>\n",
              "      <td>0.965035</td>\n",
              "    </tr>\n",
              "    <tr>\n",
              "      <th>0.70</th>\n",
              "      <td>0.981221</td>\n",
              "      <td>0.965035</td>\n",
              "    </tr>\n",
              "    <tr>\n",
              "      <th>0.55</th>\n",
              "      <td>0.988263</td>\n",
              "      <td>0.965035</td>\n",
              "    </tr>\n",
              "    <tr>\n",
              "      <th>0.95</th>\n",
              "      <td>0.93662</td>\n",
              "      <td>0.958042</td>\n",
              "    </tr>\n",
              "    <tr>\n",
              "      <th>0.65</th>\n",
              "      <td>0.985915</td>\n",
              "      <td>0.958042</td>\n",
              "    </tr>\n",
              "    <tr>\n",
              "      <th>0.60</th>\n",
              "      <td>0.985915</td>\n",
              "      <td>0.958042</td>\n",
              "    </tr>\n",
              "    <tr>\n",
              "      <th>0.50</th>\n",
              "      <td>0.988263</td>\n",
              "      <td>0.958042</td>\n",
              "    </tr>\n",
              "    <tr>\n",
              "      <th>0.40</th>\n",
              "      <td>0.985915</td>\n",
              "      <td>0.958042</td>\n",
              "    </tr>\n",
              "    <tr>\n",
              "      <th>0.35</th>\n",
              "      <td>0.983568</td>\n",
              "      <td>0.958042</td>\n",
              "    </tr>\n",
              "    <tr>\n",
              "      <th>0.45</th>\n",
              "      <td>0.99061</td>\n",
              "      <td>0.958042</td>\n",
              "    </tr>\n",
              "    <tr>\n",
              "      <th>0.30</th>\n",
              "      <td>0.981221</td>\n",
              "      <td>0.944056</td>\n",
              "    </tr>\n",
              "    <tr>\n",
              "      <th>0.25</th>\n",
              "      <td>0.974178</td>\n",
              "      <td>0.937063</td>\n",
              "    </tr>\n",
              "    <tr>\n",
              "      <th>0.20</th>\n",
              "      <td>0.962441</td>\n",
              "      <td>0.937063</td>\n",
              "    </tr>\n",
              "    <tr>\n",
              "      <th>0.15</th>\n",
              "      <td>0.957746</td>\n",
              "      <td>0.937063</td>\n",
              "    </tr>\n",
              "    <tr>\n",
              "      <th>0.10</th>\n",
              "      <td>0.943662</td>\n",
              "      <td>0.923077</td>\n",
              "    </tr>\n",
              "    <tr>\n",
              "      <th>0.05</th>\n",
              "      <td>0.91784</td>\n",
              "      <td>0.888112</td>\n",
              "    </tr>\n",
              "    <tr>\n",
              "      <th>1.00</th>\n",
              "      <td>0.626761</td>\n",
              "      <td>0.629371</td>\n",
              "    </tr>\n",
              "    <tr>\n",
              "      <th>0.00</th>\n",
              "      <td>0.373239</td>\n",
              "      <td>0.370629</td>\n",
              "    </tr>\n",
              "  </tbody>\n",
              "</table>\n",
              "</div>\n",
              "      <button class=\"colab-df-convert\" onclick=\"convertToInteractive('df-f193cbb3-ae08-4935-b71c-c06af25797fd')\"\n",
              "              title=\"Convert this dataframe to an interactive table.\"\n",
              "              style=\"display:none;\">\n",
              "        \n",
              "  <svg xmlns=\"http://www.w3.org/2000/svg\" height=\"24px\"viewBox=\"0 0 24 24\"\n",
              "       width=\"24px\">\n",
              "    <path d=\"M0 0h24v24H0V0z\" fill=\"none\"/>\n",
              "    <path d=\"M18.56 5.44l.94 2.06.94-2.06 2.06-.94-2.06-.94-.94-2.06-.94 2.06-2.06.94zm-11 1L8.5 8.5l.94-2.06 2.06-.94-2.06-.94L8.5 2.5l-.94 2.06-2.06.94zm10 10l.94 2.06.94-2.06 2.06-.94-2.06-.94-.94-2.06-.94 2.06-2.06.94z\"/><path d=\"M17.41 7.96l-1.37-1.37c-.4-.4-.92-.59-1.43-.59-.52 0-1.04.2-1.43.59L10.3 9.45l-7.72 7.72c-.78.78-.78 2.05 0 2.83L4 21.41c.39.39.9.59 1.41.59.51 0 1.02-.2 1.41-.59l7.78-7.78 2.81-2.81c.8-.78.8-2.07 0-2.86zM5.41 20L4 18.59l7.72-7.72 1.47 1.35L5.41 20z\"/>\n",
              "  </svg>\n",
              "      </button>\n",
              "      \n",
              "  <style>\n",
              "    .colab-df-container {\n",
              "      display:flex;\n",
              "      flex-wrap:wrap;\n",
              "      gap: 12px;\n",
              "    }\n",
              "\n",
              "    .colab-df-convert {\n",
              "      background-color: #E8F0FE;\n",
              "      border: none;\n",
              "      border-radius: 50%;\n",
              "      cursor: pointer;\n",
              "      display: none;\n",
              "      fill: #1967D2;\n",
              "      height: 32px;\n",
              "      padding: 0 0 0 0;\n",
              "      width: 32px;\n",
              "    }\n",
              "\n",
              "    .colab-df-convert:hover {\n",
              "      background-color: #E2EBFA;\n",
              "      box-shadow: 0px 1px 2px rgba(60, 64, 67, 0.3), 0px 1px 3px 1px rgba(60, 64, 67, 0.15);\n",
              "      fill: #174EA6;\n",
              "    }\n",
              "\n",
              "    [theme=dark] .colab-df-convert {\n",
              "      background-color: #3B4455;\n",
              "      fill: #D2E3FC;\n",
              "    }\n",
              "\n",
              "    [theme=dark] .colab-df-convert:hover {\n",
              "      background-color: #434B5C;\n",
              "      box-shadow: 0px 1px 3px 1px rgba(0, 0, 0, 0.15);\n",
              "      filter: drop-shadow(0px 1px 2px rgba(0, 0, 0, 0.3));\n",
              "      fill: #FFFFFF;\n",
              "    }\n",
              "  </style>\n",
              "\n",
              "      <script>\n",
              "        const buttonEl =\n",
              "          document.querySelector('#df-f193cbb3-ae08-4935-b71c-c06af25797fd button.colab-df-convert');\n",
              "        buttonEl.style.display =\n",
              "          google.colab.kernel.accessAllowed ? 'block' : 'none';\n",
              "\n",
              "        async function convertToInteractive(key) {\n",
              "          const element = document.querySelector('#df-f193cbb3-ae08-4935-b71c-c06af25797fd');\n",
              "          const dataTable =\n",
              "            await google.colab.kernel.invokeFunction('convertToInteractive',\n",
              "                                                     [key], {});\n",
              "          if (!dataTable) return;\n",
              "\n",
              "          const docLinkHtml = 'Like what you see? Visit the ' +\n",
              "            '<a target=\"_blank\" href=https://colab.research.google.com/notebooks/data_table.ipynb>data table notebook</a>'\n",
              "            + ' to learn more about interactive tables.';\n",
              "          element.innerHTML = '';\n",
              "          dataTable['output_type'] = 'display_data';\n",
              "          await google.colab.output.renderOutput(dataTable, element);\n",
              "          const docLink = document.createElement('div');\n",
              "          docLink.innerHTML = docLinkHtml;\n",
              "          element.appendChild(docLink);\n",
              "        }\n",
              "      </script>\n",
              "    </div>\n",
              "  </div>\n",
              "  "
            ]
          },
          "metadata": {},
          "execution_count": 52
        }
      ]
    },
    {
      "cell_type": "markdown",
      "source": [
        "> Best Accuracy performance @ 0.85\n",
        "<br>\n",
        "   - Train: 0.964789\n",
        "   - Test: 0.972028\n",
        ">"
      ],
      "metadata": {
        "id": "ysbf6VqMfIjN"
      }
    },
    {
      "cell_type": "markdown",
      "source": [
        "<a name=\"6.3\"></a>\n",
        "##▶ Model Data: KNN Model"
      ],
      "metadata": {
        "id": "pQm_9b2ph12W"
      }
    },
    {
      "cell_type": "markdown",
      "source": [
        "⬅️[Go back to TOC](#TOC)"
      ],
      "metadata": {
        "id": "GxwC_nG-spo1"
      }
    },
    {
      "cell_type": "code",
      "source": [
        "# Create an instance of the model\n",
        "knn = KNeighborsClassifier()\n",
        "# Create a model pipeline\n",
        "knn_pipe = make_pipeline(scaler, knn)\n",
        "# Fit the model\n",
        "knn_pipe.fit(X_train, y_train)"
      ],
      "metadata": {
        "colab": {
          "base_uri": "https://localhost:8080/",
          "height": 126
        },
        "id": "tkZdDMFph1GV",
        "outputId": "618a82de-abd6-43ed-d36c-0125f207ea3d"
      },
      "execution_count": null,
      "outputs": [
        {
          "output_type": "execute_result",
          "data": {
            "text/plain": [
              "Pipeline(steps=[('standardscaler', StandardScaler()),\n",
              "                ('kneighborsclassifier', KNeighborsClassifier())])"
            ],
            "text/html": [
              "<style>#sk-6de9d30f-befa-4714-83d5-fe603b0321bc {color: black;background-color: white;}#sk-6de9d30f-befa-4714-83d5-fe603b0321bc pre{padding: 0;}#sk-6de9d30f-befa-4714-83d5-fe603b0321bc div.sk-toggleable {background-color: white;}#sk-6de9d30f-befa-4714-83d5-fe603b0321bc label.sk-toggleable__label {cursor: pointer;display: block;width: 100%;margin-bottom: 0;padding: 0.3em;box-sizing: border-box;text-align: center;}#sk-6de9d30f-befa-4714-83d5-fe603b0321bc label.sk-toggleable__label-arrow:before {content: \"▸\";float: left;margin-right: 0.25em;color: #696969;}#sk-6de9d30f-befa-4714-83d5-fe603b0321bc label.sk-toggleable__label-arrow:hover:before {color: black;}#sk-6de9d30f-befa-4714-83d5-fe603b0321bc div.sk-estimator:hover label.sk-toggleable__label-arrow:before {color: black;}#sk-6de9d30f-befa-4714-83d5-fe603b0321bc div.sk-toggleable__content {max-height: 0;max-width: 0;overflow: hidden;text-align: left;background-color: #f0f8ff;}#sk-6de9d30f-befa-4714-83d5-fe603b0321bc div.sk-toggleable__content pre {margin: 0.2em;color: black;border-radius: 0.25em;background-color: #f0f8ff;}#sk-6de9d30f-befa-4714-83d5-fe603b0321bc input.sk-toggleable__control:checked~div.sk-toggleable__content {max-height: 200px;max-width: 100%;overflow: auto;}#sk-6de9d30f-befa-4714-83d5-fe603b0321bc input.sk-toggleable__control:checked~label.sk-toggleable__label-arrow:before {content: \"▾\";}#sk-6de9d30f-befa-4714-83d5-fe603b0321bc div.sk-estimator input.sk-toggleable__control:checked~label.sk-toggleable__label {background-color: #d4ebff;}#sk-6de9d30f-befa-4714-83d5-fe603b0321bc div.sk-label input.sk-toggleable__control:checked~label.sk-toggleable__label {background-color: #d4ebff;}#sk-6de9d30f-befa-4714-83d5-fe603b0321bc input.sk-hidden--visually {border: 0;clip: rect(1px 1px 1px 1px);clip: rect(1px, 1px, 1px, 1px);height: 1px;margin: -1px;overflow: hidden;padding: 0;position: absolute;width: 1px;}#sk-6de9d30f-befa-4714-83d5-fe603b0321bc div.sk-estimator {font-family: monospace;background-color: #f0f8ff;border: 1px dotted black;border-radius: 0.25em;box-sizing: border-box;margin-bottom: 0.5em;}#sk-6de9d30f-befa-4714-83d5-fe603b0321bc div.sk-estimator:hover {background-color: #d4ebff;}#sk-6de9d30f-befa-4714-83d5-fe603b0321bc div.sk-parallel-item::after {content: \"\";width: 100%;border-bottom: 1px solid gray;flex-grow: 1;}#sk-6de9d30f-befa-4714-83d5-fe603b0321bc div.sk-label:hover label.sk-toggleable__label {background-color: #d4ebff;}#sk-6de9d30f-befa-4714-83d5-fe603b0321bc div.sk-serial::before {content: \"\";position: absolute;border-left: 1px solid gray;box-sizing: border-box;top: 2em;bottom: 0;left: 50%;}#sk-6de9d30f-befa-4714-83d5-fe603b0321bc div.sk-serial {display: flex;flex-direction: column;align-items: center;background-color: white;padding-right: 0.2em;padding-left: 0.2em;}#sk-6de9d30f-befa-4714-83d5-fe603b0321bc div.sk-item {z-index: 1;}#sk-6de9d30f-befa-4714-83d5-fe603b0321bc div.sk-parallel {display: flex;align-items: stretch;justify-content: center;background-color: white;}#sk-6de9d30f-befa-4714-83d5-fe603b0321bc div.sk-parallel::before {content: \"\";position: absolute;border-left: 1px solid gray;box-sizing: border-box;top: 2em;bottom: 0;left: 50%;}#sk-6de9d30f-befa-4714-83d5-fe603b0321bc div.sk-parallel-item {display: flex;flex-direction: column;position: relative;background-color: white;}#sk-6de9d30f-befa-4714-83d5-fe603b0321bc div.sk-parallel-item:first-child::after {align-self: flex-end;width: 50%;}#sk-6de9d30f-befa-4714-83d5-fe603b0321bc div.sk-parallel-item:last-child::after {align-self: flex-start;width: 50%;}#sk-6de9d30f-befa-4714-83d5-fe603b0321bc div.sk-parallel-item:only-child::after {width: 0;}#sk-6de9d30f-befa-4714-83d5-fe603b0321bc div.sk-dashed-wrapped {border: 1px dashed gray;margin: 0 0.4em 0.5em 0.4em;box-sizing: border-box;padding-bottom: 0.4em;background-color: white;position: relative;}#sk-6de9d30f-befa-4714-83d5-fe603b0321bc div.sk-label label {font-family: monospace;font-weight: bold;background-color: white;display: inline-block;line-height: 1.2em;}#sk-6de9d30f-befa-4714-83d5-fe603b0321bc div.sk-label-container {position: relative;z-index: 2;text-align: center;}#sk-6de9d30f-befa-4714-83d5-fe603b0321bc div.sk-container {/* jupyter's `normalize.less` sets `[hidden] { display: none; }` but bootstrap.min.css set `[hidden] { display: none !important; }` so we also need the `!important` here to be able to override the default hidden behavior on the sphinx rendered scikit-learn.org. See: https://github.com/scikit-learn/scikit-learn/issues/21755 */display: inline-block !important;position: relative;}#sk-6de9d30f-befa-4714-83d5-fe603b0321bc div.sk-text-repr-fallback {display: none;}</style><div id=\"sk-6de9d30f-befa-4714-83d5-fe603b0321bc\" class=\"sk-top-container\"><div class=\"sk-text-repr-fallback\"><pre>Pipeline(steps=[(&#x27;standardscaler&#x27;, StandardScaler()),\n",
              "                (&#x27;kneighborsclassifier&#x27;, KNeighborsClassifier())])</pre><b>Please rerun this cell to show the HTML repr or trust the notebook.</b></div><div class=\"sk-container\" hidden><div class=\"sk-item sk-dashed-wrapped\"><div class=\"sk-label-container\"><div class=\"sk-label sk-toggleable\"><input class=\"sk-toggleable__control sk-hidden--visually\" id=\"dbbecd5e-5a86-4ec3-a2e2-a3be7a8ad904\" type=\"checkbox\" ><label for=\"dbbecd5e-5a86-4ec3-a2e2-a3be7a8ad904\" class=\"sk-toggleable__label sk-toggleable__label-arrow\">Pipeline</label><div class=\"sk-toggleable__content\"><pre>Pipeline(steps=[(&#x27;standardscaler&#x27;, StandardScaler()),\n",
              "                (&#x27;kneighborsclassifier&#x27;, KNeighborsClassifier())])</pre></div></div></div><div class=\"sk-serial\"><div class=\"sk-item\"><div class=\"sk-estimator sk-toggleable\"><input class=\"sk-toggleable__control sk-hidden--visually\" id=\"46ce2b1b-8432-48d8-9959-ccd2828fa355\" type=\"checkbox\" ><label for=\"46ce2b1b-8432-48d8-9959-ccd2828fa355\" class=\"sk-toggleable__label sk-toggleable__label-arrow\">StandardScaler</label><div class=\"sk-toggleable__content\"><pre>StandardScaler()</pre></div></div></div><div class=\"sk-item\"><div class=\"sk-estimator sk-toggleable\"><input class=\"sk-toggleable__control sk-hidden--visually\" id=\"56c307ba-532d-41d1-9832-78101ec749fb\" type=\"checkbox\" ><label for=\"56c307ba-532d-41d1-9832-78101ec749fb\" class=\"sk-toggleable__label sk-toggleable__label-arrow\">KNeighborsClassifier</label><div class=\"sk-toggleable__content\"><pre>KNeighborsClassifier()</pre></div></div></div></div></div></div></div>"
            ]
          },
          "metadata": {},
          "execution_count": 59
        }
      ]
    },
    {
      "cell_type": "code",
      "source": [
        "# Save the model's predictions for the train dataset\n",
        "knn_train_preds = knn_pipe.predict(X_train)\n",
        "# Save the model's predictions for the test dataset\n",
        "knn_test_preds = knn_pipe.predict(X_test)"
      ],
      "metadata": {
        "id": "soO-dBoajAeb"
      },
      "execution_count": null,
      "outputs": []
    },
    {
      "cell_type": "code",
      "source": [
        "# fit and evaluate a KNeighborsClassifier\n",
        "evaluate_classiffication(knn_pipe,X_test,y_test, cmap='Reds',\n",
        "                         label='KNN - Test Data')"
      ],
      "metadata": {
        "colab": {
          "base_uri": "https://localhost:8080/",
          "height": 542
        },
        "id": "R_PjdJqmjgrf",
        "outputId": "fad1e8a9-fcef-48bc-c036-728845225cf0"
      },
      "execution_count": null,
      "outputs": [
        {
          "output_type": "stream",
          "name": "stdout",
          "text": [
            "------------------------------------------------------------\n",
            "[i] CLASSIFICATION REPORT FOR: KNN - Test Data\n",
            "------------------------------------------------------------\n",
            "              precision    recall  f1-score   support\n",
            "\n",
            "           0       0.98      0.99      0.98        90\n",
            "           1       0.98      0.96      0.97        53\n",
            "\n",
            "    accuracy                           0.98       143\n",
            "   macro avg       0.98      0.98      0.98       143\n",
            "weighted avg       0.98      0.98      0.98       143\n",
            "\n"
          ]
        },
        {
          "output_type": "display_data",
          "data": {
            "text/plain": [
              "<Figure size 1080x360 with 3 Axes>"
            ],
            "image/png": "[encoded data removed]"
          },
          "metadata": {
            "needs_background": "light"
          }
        }
      ]
    },
    {
      "cell_type": "markdown",
      "source": [
        "<a name=\"6.3.1\"></a>\n",
        "### **Tune the Hyperparameters**"
      ],
      "metadata": {
        "id": "a1_hDsLKjw5r"
      }
    },
    {
      "cell_type": "code",
      "source": [
        "# Display the hyperparameters.\n",
        "knn_pipe.get_params()"
      ],
      "metadata": {
        "colab": {
          "base_uri": "https://localhost:8080/"
        },
        "id": "MUcY6o20j0vs",
        "outputId": "0e2be541-fbac-43a9-baaf-1f286b26cf17"
      },
      "execution_count": null,
      "outputs": [
        {
          "output_type": "execute_result",
          "data": {
            "text/plain": [
              "{'memory': None,\n",
              " 'steps': [('standardscaler', StandardScaler()),\n",
              "  ('kneighborsclassifier', KNeighborsClassifier())],\n",
              " 'verbose': False,\n",
              " 'standardscaler': StandardScaler(),\n",
              " 'kneighborsclassifier': KNeighborsClassifier(),\n",
              " 'standardscaler__copy': True,\n",
              " 'standardscaler__with_mean': True,\n",
              " 'standardscaler__with_std': True,\n",
              " 'kneighborsclassifier__algorithm': 'auto',\n",
              " 'kneighborsclassifier__leaf_size': 30,\n",
              " 'kneighborsclassifier__metric': 'minkowski',\n",
              " 'kneighborsclassifier__metric_params': None,\n",
              " 'kneighborsclassifier__n_jobs': None,\n",
              " 'kneighborsclassifier__n_neighbors': 5,\n",
              " 'kneighborsclassifier__p': 2,\n",
              " 'kneighborsclassifier__weights': 'uniform'}"
            ]
          },
          "metadata": {},
          "execution_count": 63
        }
      ]
    },
    {
      "cell_type": "code",
      "source": [
        "# Tune K utilizing a loop.\n",
        "krange = range(1, 15)\n",
        "k_list = []\n",
        "for k in krange:\n",
        "  knn_pipe = make_pipeline(KNeighborsClassifier(n_neighbors=k))\n",
        "  knn_pipe.fit(X_train, y_train)\n",
        "  score = accuracy_score(y_test, knn_pipe.predict(X_test))\n",
        "  k_list.append(score)"
      ],
      "metadata": {
        "id": "4IM5ppk_j6nD"
      },
      "execution_count": null,
      "outputs": []
    },
    {
      "cell_type": "code",
      "source": [
        "# Visualize Accuracy Scores.\n",
        "plt.plot(krange, k_list)\n",
        "plt.xlabel('K Number of Neighbors')\n",
        "plt.ylabel('Score');"
      ],
      "metadata": {
        "colab": {
          "base_uri": "https://localhost:8080/",
          "height": 281
        },
        "id": "JDeS2DR6kBqj",
        "outputId": "48ea564a-ac38-4ef7-9d86-404bdc5d5ebd"
      },
      "execution_count": null,
      "outputs": [
        {
          "output_type": "display_data",
          "data": {
            "text/plain": [
              "<Figure size 432x288 with 1 Axes>"
            ],
            "image/png": "[encoded data removed]"
          },
          "metadata": {
            "needs_background": "light"
          }
        }
      ]
    },
    {
      "cell_type": "markdown",
      "source": [
        "⬅️[Go back to TOC](#TOC)"
      ],
      "metadata": {
        "id": "0YUdRGAussqb"
      }
    },
    {
      "cell_type": "code",
      "source": [
        "# Create an instance of the best model\n",
        "knn = KNeighborsClassifier(n_neighbors=1)\n",
        "# Create a model pipeline\n",
        "knn_pipe = make_pipeline(scaler, knn)\n",
        "# Fit the model\n",
        "knn_pipe.fit(X_train, y_train)"
      ],
      "metadata": {
        "colab": {
          "base_uri": "https://localhost:8080/",
          "height": 126
        },
        "id": "CwyoSKC7kLCv",
        "outputId": "3982033b-75e0-4709-d281-4dc3466671c3"
      },
      "execution_count": null,
      "outputs": [
        {
          "output_type": "execute_result",
          "data": {
            "text/plain": [
              "Pipeline(steps=[('standardscaler', StandardScaler()),\n",
              "                ('kneighborsclassifier', KNeighborsClassifier(n_neighbors=1))])"
            ],
            "text/html": [
              "<style>#sk-cb4d5823-6afd-4acd-8c33-75a02aa12177 {color: black;background-color: white;}#sk-cb4d5823-6afd-4acd-8c33-75a02aa12177 pre{padding: 0;}#sk-cb4d5823-6afd-4acd-8c33-75a02aa12177 div.sk-toggleable {background-color: white;}#sk-cb4d5823-6afd-4acd-8c33-75a02aa12177 label.sk-toggleable__label {cursor: pointer;display: block;width: 100%;margin-bottom: 0;padding: 0.3em;box-sizing: border-box;text-align: center;}#sk-cb4d5823-6afd-4acd-8c33-75a02aa12177 label.sk-toggleable__label-arrow:before {content: \"▸\";float: left;margin-right: 0.25em;color: #696969;}#sk-cb4d5823-6afd-4acd-8c33-75a02aa12177 label.sk-toggleable__label-arrow:hover:before {color: black;}#sk-cb4d5823-6afd-4acd-8c33-75a02aa12177 div.sk-estimator:hover label.sk-toggleable__label-arrow:before {color: black;}#sk-cb4d5823-6afd-4acd-8c33-75a02aa12177 div.sk-toggleable__content {max-height: 0;max-width: 0;overflow: hidden;text-align: left;background-color: #f0f8ff;}#sk-cb4d5823-6afd-4acd-8c33-75a02aa12177 div.sk-toggleable__content pre {margin: 0.2em;color: black;border-radius: 0.25em;background-color: #f0f8ff;}#sk-cb4d5823-6afd-4acd-8c33-75a02aa12177 input.sk-toggleable__control:checked~div.sk-toggleable__content {max-height: 200px;max-width: 100%;overflow: auto;}#sk-cb4d5823-6afd-4acd-8c33-75a02aa12177 input.sk-toggleable__control:checked~label.sk-toggleable__label-arrow:before {content: \"▾\";}#sk-cb4d5823-6afd-4acd-8c33-75a02aa12177 div.sk-estimator input.sk-toggleable__control:checked~label.sk-toggleable__label {background-color: #d4ebff;}#sk-cb4d5823-6afd-4acd-8c33-75a02aa12177 div.sk-label input.sk-toggleable__control:checked~label.sk-toggleable__label {background-color: #d4ebff;}#sk-cb4d5823-6afd-4acd-8c33-75a02aa12177 input.sk-hidden--visually {border: 0;clip: rect(1px 1px 1px 1px);clip: rect(1px, 1px, 1px, 1px);height: 1px;margin: -1px;overflow: hidden;padding: 0;position: absolute;width: 1px;}#sk-cb4d5823-6afd-4acd-8c33-75a02aa12177 div.sk-estimator {font-family: monospace;background-color: #f0f8ff;border: 1px dotted black;border-radius: 0.25em;box-sizing: border-box;margin-bottom: 0.5em;}#sk-cb4d5823-6afd-4acd-8c33-75a02aa12177 div.sk-estimator:hover {background-color: #d4ebff;}#sk-cb4d5823-6afd-4acd-8c33-75a02aa12177 div.sk-parallel-item::after {content: \"\";width: 100%;border-bottom: 1px solid gray;flex-grow: 1;}#sk-cb4d5823-6afd-4acd-8c33-75a02aa12177 div.sk-label:hover label.sk-toggleable__label {background-color: #d4ebff;}#sk-cb4d5823-6afd-4acd-8c33-75a02aa12177 div.sk-serial::before {content: \"\";position: absolute;border-left: 1px solid gray;box-sizing: border-box;top: 2em;bottom: 0;left: 50%;}#sk-cb4d5823-6afd-4acd-8c33-75a02aa12177 div.sk-serial {display: flex;flex-direction: column;align-items: center;background-color: white;padding-right: 0.2em;padding-left: 0.2em;}#sk-cb4d5823-6afd-4acd-8c33-75a02aa12177 div.sk-item {z-index: 1;}#sk-cb4d5823-6afd-4acd-8c33-75a02aa12177 div.sk-parallel {display: flex;align-items: stretch;justify-content: center;background-color: white;}#sk-cb4d5823-6afd-4acd-8c33-75a02aa12177 div.sk-parallel::before {content: \"\";position: absolute;border-left: 1px solid gray;box-sizing: border-box;top: 2em;bottom: 0;left: 50%;}#sk-cb4d5823-6afd-4acd-8c33-75a02aa12177 div.sk-parallel-item {display: flex;flex-direction: column;position: relative;background-color: white;}#sk-cb4d5823-6afd-4acd-8c33-75a02aa12177 div.sk-parallel-item:first-child::after {align-self: flex-end;width: 50%;}#sk-cb4d5823-6afd-4acd-8c33-75a02aa12177 div.sk-parallel-item:last-child::after {align-self: flex-start;width: 50%;}#sk-cb4d5823-6afd-4acd-8c33-75a02aa12177 div.sk-parallel-item:only-child::after {width: 0;}#sk-cb4d5823-6afd-4acd-8c33-75a02aa12177 div.sk-dashed-wrapped {border: 1px dashed gray;margin: 0 0.4em 0.5em 0.4em;box-sizing: border-box;padding-bottom: 0.4em;background-color: white;position: relative;}#sk-cb4d5823-6afd-4acd-8c33-75a02aa12177 div.sk-label label {font-family: monospace;font-weight: bold;background-color: white;display: inline-block;line-height: 1.2em;}#sk-cb4d5823-6afd-4acd-8c33-75a02aa12177 div.sk-label-container {position: relative;z-index: 2;text-align: center;}#sk-cb4d5823-6afd-4acd-8c33-75a02aa12177 div.sk-container {/* jupyter's `normalize.less` sets `[hidden] { display: none; }` but bootstrap.min.css set `[hidden] { display: none !important; }` so we also need the `!important` here to be able to override the default hidden behavior on the sphinx rendered scikit-learn.org. See: https://github.com/scikit-learn/scikit-learn/issues/21755 */display: inline-block !important;position: relative;}#sk-cb4d5823-6afd-4acd-8c33-75a02aa12177 div.sk-text-repr-fallback {display: none;}</style><div id=\"sk-cb4d5823-6afd-4acd-8c33-75a02aa12177\" class=\"sk-top-container\"><div class=\"sk-text-repr-fallback\"><pre>Pipeline(steps=[(&#x27;standardscaler&#x27;, StandardScaler()),\n",
              "                (&#x27;kneighborsclassifier&#x27;, KNeighborsClassifier(n_neighbors=1))])</pre><b>Please rerun this cell to show the HTML repr or trust the notebook.</b></div><div class=\"sk-container\" hidden><div class=\"sk-item sk-dashed-wrapped\"><div class=\"sk-label-container\"><div class=\"sk-label sk-toggleable\"><input class=\"sk-toggleable__control sk-hidden--visually\" id=\"3e4548ff-e857-44af-a72e-67ff7ea09c34\" type=\"checkbox\" ><label for=\"3e4548ff-e857-44af-a72e-67ff7ea09c34\" class=\"sk-toggleable__label sk-toggleable__label-arrow\">Pipeline</label><div class=\"sk-toggleable__content\"><pre>Pipeline(steps=[(&#x27;standardscaler&#x27;, StandardScaler()),\n",
              "                (&#x27;kneighborsclassifier&#x27;, KNeighborsClassifier(n_neighbors=1))])</pre></div></div></div><div class=\"sk-serial\"><div class=\"sk-item\"><div class=\"sk-estimator sk-toggleable\"><input class=\"sk-toggleable__control sk-hidden--visually\" id=\"c8400141-7dfd-4b7a-be8b-091ad1ad680f\" type=\"checkbox\" ><label for=\"c8400141-7dfd-4b7a-be8b-091ad1ad680f\" class=\"sk-toggleable__label sk-toggleable__label-arrow\">StandardScaler</label><div class=\"sk-toggleable__content\"><pre>StandardScaler()</pre></div></div></div><div class=\"sk-item\"><div class=\"sk-estimator sk-toggleable\"><input class=\"sk-toggleable__control sk-hidden--visually\" id=\"7d5c7126-eb07-4eec-9932-684fab07a84c\" type=\"checkbox\" ><label for=\"7d5c7126-eb07-4eec-9932-684fab07a84c\" class=\"sk-toggleable__label sk-toggleable__label-arrow\">KNeighborsClassifier</label><div class=\"sk-toggleable__content\"><pre>KNeighborsClassifier(n_neighbors=1)</pre></div></div></div></div></div></div></div>"
            ]
          },
          "metadata": {},
          "execution_count": 67
        }
      ]
    },
    {
      "cell_type": "code",
      "source": [
        "# Save the model's predictions for the train dataset\n",
        "knn_train_preds = knn_pipe.predict(X_train)\n",
        "# Save the model's predictions for the test dataset\n",
        "knn_test_preds = knn_pipe.predict(X_test)"
      ],
      "metadata": {
        "id": "06hllhcjkYIn"
      },
      "execution_count": null,
      "outputs": []
    },
    {
      "cell_type": "code",
      "source": [
        "# fit and evaluate a KNeighborsClassifier Test\n",
        "evaluate_classiffication(knn_pipe,X_test,y_test, cmap='Reds',\n",
        "                         label='KNN - Test Data')"
      ],
      "metadata": {
        "colab": {
          "base_uri": "https://localhost:8080/",
          "height": 542
        },
        "id": "sl9aqieFkcj4",
        "outputId": "e1180946-3b9a-41fd-d9dd-c28ca72e8b20"
      },
      "execution_count": null,
      "outputs": [
        {
          "output_type": "stream",
          "name": "stdout",
          "text": [
            "------------------------------------------------------------\n",
            "[i] CLASSIFICATION REPORT FOR: KNN - Test Data\n",
            "------------------------------------------------------------\n",
            "              precision    recall  f1-score   support\n",
            "\n",
            "           0       0.98      0.99      0.98        90\n",
            "           1       0.98      0.96      0.97        53\n",
            "\n",
            "    accuracy                           0.98       143\n",
            "   macro avg       0.98      0.98      0.98       143\n",
            "weighted avg       0.98      0.98      0.98       143\n",
            "\n"
          ]
        },
        {
          "output_type": "display_data",
          "data": {
            "text/plain": [
              "<Figure size 1080x360 with 3 Axes>"
            ],
            "image/png": "[encoded data removed]"
          },
          "metadata": {
            "needs_background": "light"
          }
        }
      ]
    },
    {
      "cell_type": "code",
      "source": [
        "# fit and evaluate a KNeighborsClassifier for Train\n",
        "evaluate_classiffication(knn_pipe,X_train,y_train, cmap='Reds',\n",
        "                         label='KNN - Train Data')"
      ],
      "metadata": {
        "colab": {
          "base_uri": "https://localhost:8080/",
          "height": 546
        },
        "id": "YGPA03Esk26k",
        "outputId": "5179fde1-d025-441d-98e0-cdd70e028660"
      },
      "execution_count": null,
      "outputs": [
        {
          "output_type": "stream",
          "name": "stdout",
          "text": [
            "------------------------------------------------------------\n",
            "[i] CLASSIFICATION REPORT FOR: KNN - Train Data\n",
            "------------------------------------------------------------\n",
            "              precision    recall  f1-score   support\n",
            "\n",
            "           0       1.00      1.00      1.00       267\n",
            "           1       1.00      1.00      1.00       159\n",
            "\n",
            "    accuracy                           1.00       426\n",
            "   macro avg       1.00      1.00      1.00       426\n",
            "weighted avg       1.00      1.00      1.00       426\n",
            "\n"
          ]
        },
        {
          "output_type": "display_data",
          "data": {
            "text/plain": [
              "<Figure size 1080x360 with 3 Axes>"
            ],
            "image/png": "[encoded data removed]"
          },
          "metadata": {
            "needs_background": "light"
          }
        }
      ]
    },
    {
      "cell_type": "markdown",
      "source": [
        "<a name=\"6.9\"></a>\n",
        "##▶ Model Data: Ramdom Forest Model"
      ],
      "metadata": {
        "id": "NWavsGK5mTWw"
      }
    },
    {
      "cell_type": "markdown",
      "source": [
        "⬅️[Go back to TOC](#TOC)"
      ],
      "metadata": {
        "id": "ORKPvJ9EsvhF"
      }
    },
    {
      "cell_type": "code",
      "source": [
        "# Create an instance of the model\n",
        "rdf = RandomForestClassifier()\n",
        "# Create a model pipeline\n",
        "rdf_pipe = make_pipeline(scaler, rdf)\n",
        "# Fit the model\n",
        "rdf_pipe.fit(X_train, y_train)"
      ],
      "metadata": {
        "colab": {
          "base_uri": "https://localhost:8080/",
          "height": 126
        },
        "id": "mNyWaUarm1Aw",
        "outputId": "a1226778-dc55-4e15-8612-cb77646d01d5"
      },
      "execution_count": null,
      "outputs": [
        {
          "output_type": "execute_result",
          "data": {
            "text/plain": [
              "Pipeline(steps=[('standardscaler', StandardScaler()),\n",
              "                ('randomforestclassifier', RandomForestClassifier())])"
            ],
            "text/html": [
              "<style>#sk-3593ae1d-d5a2-4f6c-86fc-e863c46ee7bc {color: black;background-color: white;}#sk-3593ae1d-d5a2-4f6c-86fc-e863c46ee7bc pre{padding: 0;}#sk-3593ae1d-d5a2-4f6c-86fc-e863c46ee7bc div.sk-toggleable {background-color: white;}#sk-3593ae1d-d5a2-4f6c-86fc-e863c46ee7bc label.sk-toggleable__label {cursor: pointer;display: block;width: 100%;margin-bottom: 0;padding: 0.3em;box-sizing: border-box;text-align: center;}#sk-3593ae1d-d5a2-4f6c-86fc-e863c46ee7bc label.sk-toggleable__label-arrow:before {content: \"▸\";float: left;margin-right: 0.25em;color: #696969;}#sk-3593ae1d-d5a2-4f6c-86fc-e863c46ee7bc label.sk-toggleable__label-arrow:hover:before {color: black;}#sk-3593ae1d-d5a2-4f6c-86fc-e863c46ee7bc div.sk-estimator:hover label.sk-toggleable__label-arrow:before {color: black;}#sk-3593ae1d-d5a2-4f6c-86fc-e863c46ee7bc div.sk-toggleable__content {max-height: 0;max-width: 0;overflow: hidden;text-align: left;background-color: #f0f8ff;}#sk-3593ae1d-d5a2-4f6c-86fc-e863c46ee7bc div.sk-toggleable__content pre {margin: 0.2em;color: black;border-radius: 0.25em;background-color: #f0f8ff;}#sk-3593ae1d-d5a2-4f6c-86fc-e863c46ee7bc input.sk-toggleable__control:checked~div.sk-toggleable__content {max-height: 200px;max-width: 100%;overflow: auto;}#sk-3593ae1d-d5a2-4f6c-86fc-e863c46ee7bc input.sk-toggleable__control:checked~label.sk-toggleable__label-arrow:before {content: \"▾\";}#sk-3593ae1d-d5a2-4f6c-86fc-e863c46ee7bc div.sk-estimator input.sk-toggleable__control:checked~label.sk-toggleable__label {background-color: #d4ebff;}#sk-3593ae1d-d5a2-4f6c-86fc-e863c46ee7bc div.sk-label input.sk-toggleable__control:checked~label.sk-toggleable__label {background-color: #d4ebff;}#sk-3593ae1d-d5a2-4f6c-86fc-e863c46ee7bc input.sk-hidden--visually {border: 0;clip: rect(1px 1px 1px 1px);clip: rect(1px, 1px, 1px, 1px);height: 1px;margin: -1px;overflow: hidden;padding: 0;position: absolute;width: 1px;}#sk-3593ae1d-d5a2-4f6c-86fc-e863c46ee7bc div.sk-estimator {font-family: monospace;background-color: #f0f8ff;border: 1px dotted black;border-radius: 0.25em;box-sizing: border-box;margin-bottom: 0.5em;}#sk-3593ae1d-d5a2-4f6c-86fc-e863c46ee7bc div.sk-estimator:hover {background-color: #d4ebff;}#sk-3593ae1d-d5a2-4f6c-86fc-e863c46ee7bc div.sk-parallel-item::after {content: \"\";width: 100%;border-bottom: 1px solid gray;flex-grow: 1;}#sk-3593ae1d-d5a2-4f6c-86fc-e863c46ee7bc div.sk-label:hover label.sk-toggleable__label {background-color: #d4ebff;}#sk-3593ae1d-d5a2-4f6c-86fc-e863c46ee7bc div.sk-serial::before {content: \"\";position: absolute;border-left: 1px solid gray;box-sizing: border-box;top: 2em;bottom: 0;left: 50%;}#sk-3593ae1d-d5a2-4f6c-86fc-e863c46ee7bc div.sk-serial {display: flex;flex-direction: column;align-items: center;background-color: white;padding-right: 0.2em;padding-left: 0.2em;}#sk-3593ae1d-d5a2-4f6c-86fc-e863c46ee7bc div.sk-item {z-index: 1;}#sk-3593ae1d-d5a2-4f6c-86fc-e863c46ee7bc div.sk-parallel {display: flex;align-items: stretch;justify-content: center;background-color: white;}#sk-3593ae1d-d5a2-4f6c-86fc-e863c46ee7bc div.sk-parallel::before {content: \"\";position: absolute;border-left: 1px solid gray;box-sizing: border-box;top: 2em;bottom: 0;left: 50%;}#sk-3593ae1d-d5a2-4f6c-86fc-e863c46ee7bc div.sk-parallel-item {display: flex;flex-direction: column;position: relative;background-color: white;}#sk-3593ae1d-d5a2-4f6c-86fc-e863c46ee7bc div.sk-parallel-item:first-child::after {align-self: flex-end;width: 50%;}#sk-3593ae1d-d5a2-4f6c-86fc-e863c46ee7bc div.sk-parallel-item:last-child::after {align-self: flex-start;width: 50%;}#sk-3593ae1d-d5a2-4f6c-86fc-e863c46ee7bc div.sk-parallel-item:only-child::after {width: 0;}#sk-3593ae1d-d5a2-4f6c-86fc-e863c46ee7bc div.sk-dashed-wrapped {border: 1px dashed gray;margin: 0 0.4em 0.5em 0.4em;box-sizing: border-box;padding-bottom: 0.4em;background-color: white;position: relative;}#sk-3593ae1d-d5a2-4f6c-86fc-e863c46ee7bc div.sk-label label {font-family: monospace;font-weight: bold;background-color: white;display: inline-block;line-height: 1.2em;}#sk-3593ae1d-d5a2-4f6c-86fc-e863c46ee7bc div.sk-label-container {position: relative;z-index: 2;text-align: center;}#sk-3593ae1d-d5a2-4f6c-86fc-e863c46ee7bc div.sk-container {/* jupyter's `normalize.less` sets `[hidden] { display: none; }` but bootstrap.min.css set `[hidden] { display: none !important; }` so we also need the `!important` here to be able to override the default hidden behavior on the sphinx rendered scikit-learn.org. See: https://github.com/scikit-learn/scikit-learn/issues/21755 */display: inline-block !important;position: relative;}#sk-3593ae1d-d5a2-4f6c-86fc-e863c46ee7bc div.sk-text-repr-fallback {display: none;}</style><div id=\"sk-3593ae1d-d5a2-4f6c-86fc-e863c46ee7bc\" class=\"sk-top-container\"><div class=\"sk-text-repr-fallback\"><pre>Pipeline(steps=[(&#x27;standardscaler&#x27;, StandardScaler()),\n",
              "                (&#x27;randomforestclassifier&#x27;, RandomForestClassifier())])</pre><b>Please rerun this cell to show the HTML repr or trust the notebook.</b></div><div class=\"sk-container\" hidden><div class=\"sk-item sk-dashed-wrapped\"><div class=\"sk-label-container\"><div class=\"sk-label sk-toggleable\"><input class=\"sk-toggleable__control sk-hidden--visually\" id=\"74b0c731-c1da-4355-9cd5-e610f3b87588\" type=\"checkbox\" ><label for=\"74b0c731-c1da-4355-9cd5-e610f3b87588\" class=\"sk-toggleable__label sk-toggleable__label-arrow\">Pipeline</label><div class=\"sk-toggleable__content\"><pre>Pipeline(steps=[(&#x27;standardscaler&#x27;, StandardScaler()),\n",
              "                (&#x27;randomforestclassifier&#x27;, RandomForestClassifier())])</pre></div></div></div><div class=\"sk-serial\"><div class=\"sk-item\"><div class=\"sk-estimator sk-toggleable\"><input class=\"sk-toggleable__control sk-hidden--visually\" id=\"43215855-9c43-4902-b8b2-562102a093bc\" type=\"checkbox\" ><label for=\"43215855-9c43-4902-b8b2-562102a093bc\" class=\"sk-toggleable__label sk-toggleable__label-arrow\">StandardScaler</label><div class=\"sk-toggleable__content\"><pre>StandardScaler()</pre></div></div></div><div class=\"sk-item\"><div class=\"sk-estimator sk-toggleable\"><input class=\"sk-toggleable__control sk-hidden--visually\" id=\"7da0b206-493c-4b84-94ec-add5e522e951\" type=\"checkbox\" ><label for=\"7da0b206-493c-4b84-94ec-add5e522e951\" class=\"sk-toggleable__label sk-toggleable__label-arrow\">RandomForestClassifier</label><div class=\"sk-toggleable__content\"><pre>RandomForestClassifier()</pre></div></div></div></div></div></div></div>"
            ]
          },
          "metadata": {},
          "execution_count": 73
        }
      ]
    },
    {
      "cell_type": "code",
      "source": [
        "# Save the model's predictions for the train dataset\n",
        "rdf_train_preds = rdf_pipe.predict(X_train)\n",
        "# Save the model's predictions for the test dataset\n",
        "rdf_test_preds = rdf_pipe.predict(X_test)"
      ],
      "metadata": {
        "id": "WzK39WZ9nxn6"
      },
      "execution_count": null,
      "outputs": []
    },
    {
      "cell_type": "code",
      "source": [
        "# fit and evaluate a Random Forest Test Data\n",
        "evaluate_classiffication(rdf_pipe,X_test,y_test, cmap='crest',\n",
        "                         label='Random Forest - Test Data')"
      ],
      "metadata": {
        "colab": {
          "base_uri": "https://localhost:8080/",
          "height": 542
        },
        "id": "gRjHU0j_n9cV",
        "outputId": "3fa3cbfe-a5c4-41ab-fd27-c3bf80361b27"
      },
      "execution_count": null,
      "outputs": [
        {
          "output_type": "stream",
          "name": "stdout",
          "text": [
            "------------------------------------------------------------\n",
            "[i] CLASSIFICATION REPORT FOR: Random Forest - Test Data\n",
            "------------------------------------------------------------\n",
            "              precision    recall  f1-score   support\n",
            "\n",
            "           0       0.98      0.97      0.97        90\n",
            "           1       0.94      0.96      0.95        53\n",
            "\n",
            "    accuracy                           0.97       143\n",
            "   macro avg       0.96      0.96      0.96       143\n",
            "weighted avg       0.97      0.97      0.97       143\n",
            "\n"
          ]
        },
        {
          "output_type": "display_data",
          "data": {
            "text/plain": [
              "<Figure size 1080x360 with 3 Axes>"
            ],
            "image/png": "[encoded data removed]"
          },
          "metadata": {
            "needs_background": "light"
          }
        }
      ]
    },
    {
      "cell_type": "code",
      "source": [
        "# fit and evaluate a Random Forest Test Data\n",
        "evaluate_classiffication(rdf_pipe,X_train,y_train, cmap='crest',\n",
        "                         label='Random Forest - Train Data')"
      ],
      "metadata": {
        "colab": {
          "base_uri": "https://localhost:8080/",
          "height": 546
        },
        "id": "hKcAk6Paojc9",
        "outputId": "7bad402c-7caf-4648-e89f-24512eca950c"
      },
      "execution_count": null,
      "outputs": [
        {
          "output_type": "stream",
          "name": "stdout",
          "text": [
            "------------------------------------------------------------\n",
            "[i] CLASSIFICATION REPORT FOR: Random Forest - Train Data\n",
            "------------------------------------------------------------\n",
            "              precision    recall  f1-score   support\n",
            "\n",
            "           0       1.00      1.00      1.00       267\n",
            "           1       1.00      1.00      1.00       159\n",
            "\n",
            "    accuracy                           1.00       426\n",
            "   macro avg       1.00      1.00      1.00       426\n",
            "weighted avg       1.00      1.00      1.00       426\n",
            "\n"
          ]
        },
        {
          "output_type": "display_data",
          "data": {
            "text/plain": [
              "<Figure size 1080x360 with 3 Axes>"
            ],
            "image/png": "[encoded data removed]"
          },
          "metadata": {
            "needs_background": "light"
          }
        }
      ]
    },
    {
      "cell_type": "markdown",
      "source": [
        "<a name=\"6.10\"></a>\n",
        "### Loop to Tune n_estimators for Random Forest Regressor Model"
      ],
      "metadata": {
        "id": "ZZLVW_zno8kd"
      }
    },
    {
      "cell_type": "code",
      "source": [
        "#create a range of max_depth values\n",
        "n_estimators = [50, 100, 200, 300, 400, 500, 600, 700, 800, 1000, 2000, 3000, 4000, 5000]\n",
        "\n",
        "#create a dataframe to store train and test scores.\n",
        "scores = pd.DataFrame(columns=['Train', 'Test'], index=n_estimators)\n",
        "\n",
        "#loop over the values in depths\n",
        "for n in n_estimators:\n",
        "  #fit a new model with max_depth\n",
        "  rf = RandomForestClassifier(random_state = 42, n_estimators=n)\n",
        "\n",
        "  #put the model into a pipeline\n",
        "  rf_pipe = make_pipeline(preprocessor, rf)\n",
        "\n",
        "  #fit the model\n",
        "  rf_pipe.fit(X_train, y_train)\n",
        "\n",
        "  #create prediction arrays\n",
        "  train_pred = rf_pipe.predict(X_train)\n",
        "  test_pred = rf_pipe.predict(X_test)\n",
        "\n",
        "  #evaluate the model using R2 Score\n",
        "  train_r2score = r2_score(y_train, train_pred)\n",
        "  test_r2score = r2_score(y_test, test_pred)\n",
        "\n",
        "  #store the scores in the scores dataframe\n",
        "  scores.loc[n, 'Train'] = train_r2score\n",
        "  scores.loc[n, 'Test'] = test_r2score"
      ],
      "metadata": {
        "id": "D1bBg_z1ow-3"
      },
      "execution_count": null,
      "outputs": []
    },
    {
      "cell_type": "code",
      "source": [
        "scores"
      ],
      "metadata": {
        "colab": {
          "base_uri": "https://localhost:8080/",
          "height": 488
        },
        "id": "ImYl4DMmqB3m",
        "outputId": "00590847-0030-4d16-d7d8-931c1405b7a9"
      },
      "execution_count": null,
      "outputs": [
        {
          "output_type": "execute_result",
          "data": {
            "text/plain": [
              "     Train      Test\n",
              "50     1.0  0.820126\n",
              "100    1.0  0.850105\n",
              "200    1.0  0.850105\n",
              "300    1.0  0.850105\n",
              "400    1.0  0.850105\n",
              "500    1.0  0.850105\n",
              "600    1.0  0.850105\n",
              "700    1.0  0.850105\n",
              "800    1.0  0.850105\n",
              "1000   1.0  0.850105\n",
              "2000   1.0  0.850105\n",
              "3000   1.0  0.850105\n",
              "4000   1.0  0.850105\n",
              "5000   1.0  0.850105"
            ],
            "text/html": [
              "\n",
              "  <div id=\"df-41e3217b-00b7-496d-ac43-d67fd83d2089\">\n",
              "    <div class=\"colab-df-container\">\n",
              "      <div>\n",
              "<style scoped>\n",
              "    .dataframe tbody tr th:only-of-type {\n",
              "        vertical-align: middle;\n",
              "    }\n",
              "\n",
              "    .dataframe tbody tr th {\n",
              "        vertical-align: top;\n",
              "    }\n",
              "\n",
              "    .dataframe thead th {\n",
              "        text-align: right;\n",
              "    }\n",
              "</style>\n",
              "<table border=\"1\" class=\"dataframe\">\n",
              "  <thead>\n",
              "    <tr style=\"text-align: right;\">\n",
              "      <th></th>\n",
              "      <th>Train</th>\n",
              "      <th>Test</th>\n",
              "    </tr>\n",
              "  </thead>\n",
              "  <tbody>\n",
              "    <tr>\n",
              "      <th>50</th>\n",
              "      <td>1.0</td>\n",
              "      <td>0.820126</td>\n",
              "    </tr>\n",
              "    <tr>\n",
              "      <th>100</th>\n",
              "      <td>1.0</td>\n",
              "      <td>0.850105</td>\n",
              "    </tr>\n",
              "    <tr>\n",
              "      <th>200</th>\n",
              "      <td>1.0</td>\n",
              "      <td>0.850105</td>\n",
              "    </tr>\n",
              "    <tr>\n",
              "      <th>300</th>\n",
              "      <td>1.0</td>\n",
              "      <td>0.850105</td>\n",
              "    </tr>\n",
              "    <tr>\n",
              "      <th>400</th>\n",
              "      <td>1.0</td>\n",
              "      <td>0.850105</td>\n",
              "    </tr>\n",
              "    <tr>\n",
              "      <th>500</th>\n",
              "      <td>1.0</td>\n",
              "      <td>0.850105</td>\n",
              "    </tr>\n",
              "    <tr>\n",
              "      <th>600</th>\n",
              "      <td>1.0</td>\n",
              "      <td>0.850105</td>\n",
              "    </tr>\n",
              "    <tr>\n",
              "      <th>700</th>\n",
              "      <td>1.0</td>\n",
              "      <td>0.850105</td>\n",
              "    </tr>\n",
              "    <tr>\n",
              "      <th>800</th>\n",
              "      <td>1.0</td>\n",
              "      <td>0.850105</td>\n",
              "    </tr>\n",
              "    <tr>\n",
              "      <th>1000</th>\n",
              "      <td>1.0</td>\n",
              "      <td>0.850105</td>\n",
              "    </tr>\n",
              "    <tr>\n",
              "      <th>2000</th>\n",
              "      <td>1.0</td>\n",
              "      <td>0.850105</td>\n",
              "    </tr>\n",
              "    <tr>\n",
              "      <th>3000</th>\n",
              "      <td>1.0</td>\n",
              "      <td>0.850105</td>\n",
              "    </tr>\n",
              "    <tr>\n",
              "      <th>4000</th>\n",
              "      <td>1.0</td>\n",
              "      <td>0.850105</td>\n",
              "    </tr>\n",
              "    <tr>\n",
              "      <th>5000</th>\n",
              "      <td>1.0</td>\n",
              "      <td>0.850105</td>\n",
              "    </tr>\n",
              "  </tbody>\n",
              "</table>\n",
              "</div>\n",
              "      <button class=\"colab-df-convert\" onclick=\"convertToInteractive('df-41e3217b-00b7-496d-ac43-d67fd83d2089')\"\n",
              "              title=\"Convert this dataframe to an interactive table.\"\n",
              "              style=\"display:none;\">\n",
              "        \n",
              "  <svg xmlns=\"http://www.w3.org/2000/svg\" height=\"24px\"viewBox=\"0 0 24 24\"\n",
              "       width=\"24px\">\n",
              "    <path d=\"M0 0h24v24H0V0z\" fill=\"none\"/>\n",
              "    <path d=\"M18.56 5.44l.94 2.06.94-2.06 2.06-.94-2.06-.94-.94-2.06-.94 2.06-2.06.94zm-11 1L8.5 8.5l.94-2.06 2.06-.94-2.06-.94L8.5 2.5l-.94 2.06-2.06.94zm10 10l.94 2.06.94-2.06 2.06-.94-2.06-.94-.94-2.06-.94 2.06-2.06.94z\"/><path d=\"M17.41 7.96l-1.37-1.37c-.4-.4-.92-.59-1.43-.59-.52 0-1.04.2-1.43.59L10.3 9.45l-7.72 7.72c-.78.78-.78 2.05 0 2.83L4 21.41c.39.39.9.59 1.41.59.51 0 1.02-.2 1.41-.59l7.78-7.78 2.81-2.81c.8-.78.8-2.07 0-2.86zM5.41 20L4 18.59l7.72-7.72 1.47 1.35L5.41 20z\"/>\n",
              "  </svg>\n",
              "      </button>\n",
              "      \n",
              "  <style>\n",
              "    .colab-df-container {\n",
              "      display:flex;\n",
              "      flex-wrap:wrap;\n",
              "      gap: 12px;\n",
              "    }\n",
              "\n",
              "    .colab-df-convert {\n",
              "      background-color: #E8F0FE;\n",
              "      border: none;\n",
              "      border-radius: 50%;\n",
              "      cursor: pointer;\n",
              "      display: none;\n",
              "      fill: #1967D2;\n",
              "      height: 32px;\n",
              "      padding: 0 0 0 0;\n",
              "      width: 32px;\n",
              "    }\n",
              "\n",
              "    .colab-df-convert:hover {\n",
              "      background-color: #E2EBFA;\n",
              "      box-shadow: 0px 1px 2px rgba(60, 64, 67, 0.3), 0px 1px 3px 1px rgba(60, 64, 67, 0.15);\n",
              "      fill: #174EA6;\n",
              "    }\n",
              "\n",
              "    [theme=dark] .colab-df-convert {\n",
              "      background-color: #3B4455;\n",
              "      fill: #D2E3FC;\n",
              "    }\n",
              "\n",
              "    [theme=dark] .colab-df-convert:hover {\n",
              "      background-color: #434B5C;\n",
              "      box-shadow: 0px 1px 3px 1px rgba(0, 0, 0, 0.15);\n",
              "      filter: drop-shadow(0px 1px 2px rgba(0, 0, 0, 0.3));\n",
              "      fill: #FFFFFF;\n",
              "    }\n",
              "  </style>\n",
              "\n",
              "      <script>\n",
              "        const buttonEl =\n",
              "          document.querySelector('#df-41e3217b-00b7-496d-ac43-d67fd83d2089 button.colab-df-convert');\n",
              "        buttonEl.style.display =\n",
              "          google.colab.kernel.accessAllowed ? 'block' : 'none';\n",
              "\n",
              "        async function convertToInteractive(key) {\n",
              "          const element = document.querySelector('#df-41e3217b-00b7-496d-ac43-d67fd83d2089');\n",
              "          const dataTable =\n",
              "            await google.colab.kernel.invokeFunction('convertToInteractive',\n",
              "                                                     [key], {});\n",
              "          if (!dataTable) return;\n",
              "\n",
              "          const docLinkHtml = 'Like what you see? Visit the ' +\n",
              "            '<a target=\"_blank\" href=https://colab.research.google.com/notebooks/data_table.ipynb>data table notebook</a>'\n",
              "            + ' to learn more about interactive tables.';\n",
              "          element.innerHTML = '';\n",
              "          dataTable['output_type'] = 'display_data';\n",
              "          await google.colab.output.renderOutput(dataTable, element);\n",
              "          const docLink = document.createElement('div');\n",
              "          docLink.innerHTML = docLinkHtml;\n",
              "          element.appendChild(docLink);\n",
              "        }\n",
              "      </script>\n",
              "    </div>\n",
              "  </div>\n",
              "  "
            ]
          },
          "metadata": {},
          "execution_count": 78
        }
      ]
    },
    {
      "cell_type": "markdown",
      "source": [
        "⬅️[Go back to TOC](#TOC)"
      ],
      "metadata": {
        "id": "MnwPTbWws2GS"
      }
    },
    {
      "cell_type": "code",
      "source": [
        "best_estimators = scores.sort_values(by='Test', ascending=False).index[0]\n",
        "best_estimators"
      ],
      "metadata": {
        "colab": {
          "base_uri": "https://localhost:8080/"
        },
        "id": "Rw8rTck8qPP8",
        "outputId": "8654fa59-c70f-48d0-fdec-545f969152a2"
      },
      "execution_count": null,
      "outputs": [
        {
          "output_type": "execute_result",
          "data": {
            "text/plain": [
              "100"
            ]
          },
          "metadata": {},
          "execution_count": 80
        }
      ]
    },
    {
      "cell_type": "code",
      "source": [
        "# Create an instance of the model\n",
        "best_rdf = RandomForestClassifier(n_estimators= best_estimators)\n",
        "# Create a model pipeline\n",
        "best_rdf_pipe = make_pipeline(scaler, best_rdf)\n",
        "# Fit the model\n",
        "best_rdf_pipe.fit(X_train, y_train)"
      ],
      "metadata": {
        "colab": {
          "base_uri": "https://localhost:8080/",
          "height": 126
        },
        "id": "d1DeKhU7qYrU",
        "outputId": "b56d4ccf-39b8-4145-ae3a-343b99fc0813"
      },
      "execution_count": null,
      "outputs": [
        {
          "output_type": "execute_result",
          "data": {
            "text/plain": [
              "Pipeline(steps=[('standardscaler', StandardScaler()),\n",
              "                ('randomforestclassifier', RandomForestClassifier())])"
            ],
            "text/html": [
              "<style>#sk-30c4e24e-0d37-4c72-907e-f6a954bc005d {color: black;background-color: white;}#sk-30c4e24e-0d37-4c72-907e-f6a954bc005d pre{padding: 0;}#sk-30c4e24e-0d37-4c72-907e-f6a954bc005d div.sk-toggleable {background-color: white;}#sk-30c4e24e-0d37-4c72-907e-f6a954bc005d label.sk-toggleable__label {cursor: pointer;display: block;width: 100%;margin-bottom: 0;padding: 0.3em;box-sizing: border-box;text-align: center;}#sk-30c4e24e-0d37-4c72-907e-f6a954bc005d label.sk-toggleable__label-arrow:before {content: \"▸\";float: left;margin-right: 0.25em;color: #696969;}#sk-30c4e24e-0d37-4c72-907e-f6a954bc005d label.sk-toggleable__label-arrow:hover:before {color: black;}#sk-30c4e24e-0d37-4c72-907e-f6a954bc005d div.sk-estimator:hover label.sk-toggleable__label-arrow:before {color: black;}#sk-30c4e24e-0d37-4c72-907e-f6a954bc005d div.sk-toggleable__content {max-height: 0;max-width: 0;overflow: hidden;text-align: left;background-color: #f0f8ff;}#sk-30c4e24e-0d37-4c72-907e-f6a954bc005d div.sk-toggleable__content pre {margin: 0.2em;color: black;border-radius: 0.25em;background-color: #f0f8ff;}#sk-30c4e24e-0d37-4c72-907e-f6a954bc005d input.sk-toggleable__control:checked~div.sk-toggleable__content {max-height: 200px;max-width: 100%;overflow: auto;}#sk-30c4e24e-0d37-4c72-907e-f6a954bc005d input.sk-toggleable__control:checked~label.sk-toggleable__label-arrow:before {content: \"▾\";}#sk-30c4e24e-0d37-4c72-907e-f6a954bc005d div.sk-estimator input.sk-toggleable__control:checked~label.sk-toggleable__label {background-color: #d4ebff;}#sk-30c4e24e-0d37-4c72-907e-f6a954bc005d div.sk-label input.sk-toggleable__control:checked~label.sk-toggleable__label {background-color: #d4ebff;}#sk-30c4e24e-0d37-4c72-907e-f6a954bc005d input.sk-hidden--visually {border: 0;clip: rect(1px 1px 1px 1px);clip: rect(1px, 1px, 1px, 1px);height: 1px;margin: -1px;overflow: hidden;padding: 0;position: absolute;width: 1px;}#sk-30c4e24e-0d37-4c72-907e-f6a954bc005d div.sk-estimator {font-family: monospace;background-color: #f0f8ff;border: 1px dotted black;border-radius: 0.25em;box-sizing: border-box;margin-bottom: 0.5em;}#sk-30c4e24e-0d37-4c72-907e-f6a954bc005d div.sk-estimator:hover {background-color: #d4ebff;}#sk-30c4e24e-0d37-4c72-907e-f6a954bc005d div.sk-parallel-item::after {content: \"\";width: 100%;border-bottom: 1px solid gray;flex-grow: 1;}#sk-30c4e24e-0d37-4c72-907e-f6a954bc005d div.sk-label:hover label.sk-toggleable__label {background-color: #d4ebff;}#sk-30c4e24e-0d37-4c72-907e-f6a954bc005d div.sk-serial::before {content: \"\";position: absolute;border-left: 1px solid gray;box-sizing: border-box;top: 2em;bottom: 0;left: 50%;}#sk-30c4e24e-0d37-4c72-907e-f6a954bc005d div.sk-serial {display: flex;flex-direction: column;align-items: center;background-color: white;padding-right: 0.2em;padding-left: 0.2em;}#sk-30c4e24e-0d37-4c72-907e-f6a954bc005d div.sk-item {z-index: 1;}#sk-30c4e24e-0d37-4c72-907e-f6a954bc005d div.sk-parallel {display: flex;align-items: stretch;justify-content: center;background-color: white;}#sk-30c4e24e-0d37-4c72-907e-f6a954bc005d div.sk-parallel::before {content: \"\";position: absolute;border-left: 1px solid gray;box-sizing: border-box;top: 2em;bottom: 0;left: 50%;}#sk-30c4e24e-0d37-4c72-907e-f6a954bc005d div.sk-parallel-item {display: flex;flex-direction: column;position: relative;background-color: white;}#sk-30c4e24e-0d37-4c72-907e-f6a954bc005d div.sk-parallel-item:first-child::after {align-self: flex-end;width: 50%;}#sk-30c4e24e-0d37-4c72-907e-f6a954bc005d div.sk-parallel-item:last-child::after {align-self: flex-start;width: 50%;}#sk-30c4e24e-0d37-4c72-907e-f6a954bc005d div.sk-parallel-item:only-child::after {width: 0;}#sk-30c4e24e-0d37-4c72-907e-f6a954bc005d div.sk-dashed-wrapped {border: 1px dashed gray;margin: 0 0.4em 0.5em 0.4em;box-sizing: border-box;padding-bottom: 0.4em;background-color: white;position: relative;}#sk-30c4e24e-0d37-4c72-907e-f6a954bc005d div.sk-label label {font-family: monospace;font-weight: bold;background-color: white;display: inline-block;line-height: 1.2em;}#sk-30c4e24e-0d37-4c72-907e-f6a954bc005d div.sk-label-container {position: relative;z-index: 2;text-align: center;}#sk-30c4e24e-0d37-4c72-907e-f6a954bc005d div.sk-container {/* jupyter's `normalize.less` sets `[hidden] { display: none; }` but bootstrap.min.css set `[hidden] { display: none !important; }` so we also need the `!important` here to be able to override the default hidden behavior on the sphinx rendered scikit-learn.org. See: https://github.com/scikit-learn/scikit-learn/issues/21755 */display: inline-block !important;position: relative;}#sk-30c4e24e-0d37-4c72-907e-f6a954bc005d div.sk-text-repr-fallback {display: none;}</style><div id=\"sk-30c4e24e-0d37-4c72-907e-f6a954bc005d\" class=\"sk-top-container\"><div class=\"sk-text-repr-fallback\"><pre>Pipeline(steps=[(&#x27;standardscaler&#x27;, StandardScaler()),\n",
              "                (&#x27;randomforestclassifier&#x27;, RandomForestClassifier())])</pre><b>Please rerun this cell to show the HTML repr or trust the notebook.</b></div><div class=\"sk-container\" hidden><div class=\"sk-item sk-dashed-wrapped\"><div class=\"sk-label-container\"><div class=\"sk-label sk-toggleable\"><input class=\"sk-toggleable__control sk-hidden--visually\" id=\"6d84a52e-536f-45fa-b58b-00309d4a492e\" type=\"checkbox\" ><label for=\"6d84a52e-536f-45fa-b58b-00309d4a492e\" class=\"sk-toggleable__label sk-toggleable__label-arrow\">Pipeline</label><div class=\"sk-toggleable__content\"><pre>Pipeline(steps=[(&#x27;standardscaler&#x27;, StandardScaler()),\n",
              "                (&#x27;randomforestclassifier&#x27;, RandomForestClassifier())])</pre></div></div></div><div class=\"sk-serial\"><div class=\"sk-item\"><div class=\"sk-estimator sk-toggleable\"><input class=\"sk-toggleable__control sk-hidden--visually\" id=\"5a73804b-96ca-46a6-b9ba-1c06d3ca869f\" type=\"checkbox\" ><label for=\"5a73804b-96ca-46a6-b9ba-1c06d3ca869f\" class=\"sk-toggleable__label sk-toggleable__label-arrow\">StandardScaler</label><div class=\"sk-toggleable__content\"><pre>StandardScaler()</pre></div></div></div><div class=\"sk-item\"><div class=\"sk-estimator sk-toggleable\"><input class=\"sk-toggleable__control sk-hidden--visually\" id=\"422f1968-8454-4b81-a358-c632bc555c25\" type=\"checkbox\" ><label for=\"422f1968-8454-4b81-a358-c632bc555c25\" class=\"sk-toggleable__label sk-toggleable__label-arrow\">RandomForestClassifier</label><div class=\"sk-toggleable__content\"><pre>RandomForestClassifier()</pre></div></div></div></div></div></div></div>"
            ]
          },
          "metadata": {},
          "execution_count": 81
        }
      ]
    },
    {
      "cell_type": "code",
      "source": [
        "# Save the model's predictions for the train dataset\n",
        "best_rdf_train_preds = best_rdf_pipe.predict(X_train)\n",
        "# Save the model's predictions for the test dataset\n",
        "bets_rdf_test_preds = best_rdf_pipe.predict(X_test)"
      ],
      "metadata": {
        "id": "OQgI3QQkqYjA"
      },
      "execution_count": null,
      "outputs": []
    },
    {
      "cell_type": "code",
      "source": [
        "# fit and evaluate a Random Forest Test Data for Best N-Estimator\n",
        "evaluate_classiffication(best_rdf_pipe,X_test,y_test, cmap='crest',\n",
        "                         label='Best N-Estimator - Random Forest - Test Data')"
      ],
      "metadata": {
        "colab": {
          "base_uri": "https://localhost:8080/",
          "height": 542
        },
        "id": "psJDdXKGrE0Q",
        "outputId": "a0c2fdc9-c58b-45ba-d5ad-97014feffd70"
      },
      "execution_count": null,
      "outputs": [
        {
          "output_type": "stream",
          "name": "stdout",
          "text": [
            "------------------------------------------------------------\n",
            "[i] CLASSIFICATION REPORT FOR: Best N-Estimator - Random Forest - Test Data\n",
            "------------------------------------------------------------\n",
            "              precision    recall  f1-score   support\n",
            "\n",
            "           0       0.98      0.97      0.97        90\n",
            "           1       0.94      0.96      0.95        53\n",
            "\n",
            "    accuracy                           0.97       143\n",
            "   macro avg       0.96      0.96      0.96       143\n",
            "weighted avg       0.97      0.97      0.97       143\n",
            "\n"
          ]
        },
        {
          "output_type": "display_data",
          "data": {
            "text/plain": [
              "<Figure size 1080x360 with 3 Axes>"
            ],
            "image/png": "[encoded data removed]"
          },
          "metadata": {
            "needs_background": "light"
          }
        }
      ]
    },
    {
      "cell_type": "markdown",
      "source": [
        "⬅️[Go back to TOC](#TOC)"
      ],
      "metadata": {
        "id": "oxA_lUQCszWO"
      }
    },
    {
      "cell_type": "code",
      "source": [
        "# fit and evaluate a Random Forest Train Data for Best N-Estimator\n",
        "evaluate_classiffication(best_rdf_pipe,X_train,y_train, cmap='crest',\n",
        "                         label='Best N-Estimator - Random Forest - Train Data')"
      ],
      "metadata": {
        "colab": {
          "base_uri": "https://localhost:8080/",
          "height": 546
        },
        "id": "NfoDn8NErTZ_",
        "outputId": "2a3cde9e-f4d5-4c1e-b2db-2cfdceb9afea"
      },
      "execution_count": null,
      "outputs": [
        {
          "output_type": "stream",
          "name": "stdout",
          "text": [
            "------------------------------------------------------------\n",
            "[i] CLASSIFICATION REPORT FOR: Best N-Estimator - Random Forest - Train Data\n",
            "------------------------------------------------------------\n",
            "              precision    recall  f1-score   support\n",
            "\n",
            "           0       1.00      1.00      1.00       267\n",
            "           1       1.00      1.00      1.00       159\n",
            "\n",
            "    accuracy                           1.00       426\n",
            "   macro avg       1.00      1.00      1.00       426\n",
            "weighted avg       1.00      1.00      1.00       426\n",
            "\n"
          ]
        },
        {
          "output_type": "display_data",
          "data": {
            "text/plain": [
              "<Figure size 1080x360 with 3 Axes>"
            ],
            "image/png": "[encoded data removed]"
          },
          "metadata": {
            "needs_background": "light"
          }
        }
      ]
    },
    {
      "cell_type": "markdown",
      "source": [
        "<a name=\"6.14\"></a>\n",
        "## 📕 Observations and Recommendations"
      ],
      "metadata": {
        "id": "zsKKrf7vs_GA"
      }
    },
    {
      "cell_type": "markdown",
      "source": [
        "> Hyperparameters used for tuning:\n",
        "  - Logistic Regression Model: Decision Threshold\n",
        "  - KNN Model: n_neighbors\n",
        "  - Random Forrest:n_estimators"
      ],
      "metadata": {
        "id": "4SWY5RNCtPTP"
      }
    },
    {
      "cell_type": "markdown",
      "source": [
        "> The best Model was the KNN, and it is recommended to use in production"
      ],
      "metadata": {
        "id": "nm0dt_N8ul04"
      }
    },
    {
      "cell_type": "markdown",
      "source": [
        "> False Negative is the worst case, implying that a patient with cancer could miss treatment. Other business considerations could assume the False Posite relevant, as could put a patient under unnecessary costly treatment  "
      ],
      "metadata": {
        "id": "pFWdkvyouvHl"
      }
    },
    {
      "cell_type": "code",
      "source": [],
      "metadata": {
        "id": "X7byxwR2uid8"
      },
      "execution_count": null,
      "outputs": []
    }
  ]
}